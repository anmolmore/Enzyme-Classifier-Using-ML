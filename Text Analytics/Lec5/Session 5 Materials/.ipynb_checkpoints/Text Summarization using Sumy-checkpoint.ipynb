{
 "cells": [
  {
   "cell_type": "markdown",
   "metadata": {},
   "source": [
    "## Text Summarization Using Sumy\n",
    "\n",
    "Class, \n",
    "\n",
    "In this module we are going to implement text summarization using Sumy module. \n",
    "\n",
    "Command to install Sumy package is: \n",
    "\n",
    "### pip install sumy\n",
    "\n",
    "We will be using amazon nokia reviews dataset\n",
    "\n",
    "Sumy offers several algorithms and methods for summarization such as: \n",
    "\n",
    "[1] Luhn – heurestic method\n",
    "[2] Latent Semantic Analysis\n",
    "[3] Edmundson heurestic method with previous statistic research\n",
    "[4] LexRank – Unsupervised approach inspired by algorithms PageRank and HITS\n",
    "[5] TextRank\n",
    "[6] SumBasic – Method that is often used as a baseline in the literature\n",
    "[7] KL-Sum – Method that greedily adds sentences to a summary so long as it decreases the KL Divergence.\n",
    "\n",
    "So, let's get started"
   ]
  },
  {
   "cell_type": "code",
   "execution_count": 1,
   "metadata": {},
   "outputs": [],
   "source": [
    "import sumy\n",
    "from sumy.parsers.plaintext import PlaintextParser\n",
    "from sumy.nlp.tokenizers import Tokenizer\n",
    "from sumy.summarizers.lex_rank import LexRankSummarizer"
   ]
  },
  {
   "cell_type": "code",
   "execution_count": 2,
   "metadata": {},
   "outputs": [],
   "source": [
    "parser = PlaintextParser.from_file(\"India_vs_South_Africa_World_CUp.txt\",Tokenizer(\"english\"))"
   ]
  },
  {
   "cell_type": "markdown",
   "metadata": {},
   "source": [
    "## LexRank Algorithm"
   ]
  },
  {
   "cell_type": "code",
   "execution_count": 3,
   "metadata": {},
   "outputs": [],
   "source": [
    "summarizer = LexRankSummarizer()\n",
    "summary = summarizer(parser.document, 5)"
   ]
  },
  {
   "cell_type": "code",
   "execution_count": 4,
   "metadata": {},
   "outputs": [
    {
     "name": "stdout",
     "output_type": "stream",
     "text": [
      "****************New Sentence*******************\n",
      "\n",
      "\n",
      "What was started by Bumrah, was ended by his partner Bhuvneshwar Kumar as he got a couple of late wickets and India were able to restrict South Africa to 227 for 9.\n",
      "****************New Sentence*******************\n",
      "\n",
      "\n",
      "After the way they performed in South Africa last year, it was expected that India would go with two wrist spinners rather than playing the third seamer.Both du Plessis and van der Dussen didn't look much comfortable against Chahal and it was the legspinner who broke the crucial partnership.\n",
      "****************New Sentence*******************\n",
      "\n",
      "\n",
      "Meanwhile, it looked pretty evident that du Plessis was trying to read Chahal off the surface and ended up paying for it as he was knocked over by a slider for 38.\n",
      "****************New Sentence*******************\n",
      "\n",
      "\n",
      "Just like what Bumrah did in his opening spell, Rabada's first few overs were always going to be important.\n",
      "****************New Sentence*******************\n",
      "\n",
      "\n",
      "4 spot after a century in the warm-up match, however couldn't convert his start into a big score as he chipped one of Rabada's deliveries straight into the hands of the mid-off fielder when he was on 26.\n"
     ]
    }
   ],
   "source": [
    "for sent in summary: \n",
    "    print(\"****************New Sentence*******************\")\n",
    "    print(\"\\n\")\n",
    "    print(sent)"
   ]
  },
  {
   "cell_type": "markdown",
   "metadata": {},
   "source": [
    "## Luhn Algorithm\n",
    "Based on frequency of most important words"
   ]
  },
  {
   "cell_type": "code",
   "execution_count": 5,
   "metadata": {},
   "outputs": [],
   "source": [
    "from sumy.summarizers.luhn import LuhnSummarizer"
   ]
  },
  {
   "cell_type": "code",
   "execution_count": 6,
   "metadata": {},
   "outputs": [],
   "source": [
    "summarizer_luhn = LuhnSummarizer()\n",
    "summary_1 =summarizer_luhn(parser.document,5)"
   ]
  },
  {
   "cell_type": "code",
   "execution_count": 7,
   "metadata": {},
   "outputs": [
    {
     "name": "stdout",
     "output_type": "stream",
     "text": [
      "\n",
      "*****************New Sentence************\n",
      "\n",
      "What was started by Bumrah, was ended by his partner Bhuvneshwar Kumar as he got a couple of late wickets and India were able to restrict South Africa to 227 for 9.\n",
      "\n",
      "*****************New Sentence************\n",
      "\n",
      "It didn't take much time for the top-ranked ODI bowler and India to get their first breakthrough as Hashim Amla (6) was caught at the second slip off an outswinger.Credit should also be given to Indian captain Kohli who went with three slips and reaped the reward for setting an attacking field.\n",
      "\n",
      "*****************New Sentence************\n",
      "\n",
      "After the way they performed in South Africa last year, it was expected that India would go with two wrist spinners rather than playing the third seamer.Both du Plessis and van der Dussen didn't look much comfortable against Chahal and it was the legspinner who broke the crucial partnership.\n",
      "\n",
      "*****************New Sentence************\n",
      "\n",
      "Averaging over 140 in his last 10 ODI innings against South Africa, Kohli walked out with the hope of getting a yet another big score in the first match of a World Cup.\n",
      "\n",
      "*****************New Sentence************\n",
      "\n",
      "4 spot after a century in the warm-up match, however couldn't convert his start into a big score as he chipped one of Rabada's deliveries straight into the hands of the mid-off fielder when he was on 26.\n"
     ]
    }
   ],
   "source": [
    "for sentence in summary_1:\n",
    "    print(\"\\n*****************New Sentence************\\n\")\n",
    "    #print(\"\\n\")\n",
    "    print(sentence)"
   ]
  },
  {
   "cell_type": "markdown",
   "metadata": {},
   "source": [
    "## Using LSA Algorithm\n",
    "Based on term frequency techniques with singular value decomposition to summarize texts.\n"
   ]
  },
  {
   "cell_type": "code",
   "execution_count": 8,
   "metadata": {},
   "outputs": [],
   "source": [
    "from sumy.summarizers.lsa import LsaSummarizer"
   ]
  },
  {
   "cell_type": "code",
   "execution_count": 9,
   "metadata": {},
   "outputs": [],
   "source": [
    "summarizer_lsa = LsaSummarizer()\n",
    "summary_2 =summarizer_lsa(parser.document,5)"
   ]
  },
  {
   "cell_type": "code",
   "execution_count": 10,
   "metadata": {},
   "outputs": [
    {
     "name": "stdout",
     "output_type": "stream",
     "text": [
      "\n",
      "****************New Sentence*************\n",
      "\n",
      "India had to wait six days to open their 2019 World Cup campaign but Yuzvendra Chahal and Rohit Sharma made it worthwhile with their match-winning contributions as the Virat Kohli-led side beat depleted South Africa by six wickets in Southampton on Wednesday (June 5).\n",
      "\n",
      "****************New Sentence*************\n",
      "\n",
      "In reply, Rohit batted with responsibility and crafted his 23rd ODI century to help India hand South Africa their third defeat of the tournament.\n",
      "\n",
      "****************New Sentence*************\n",
      "\n",
      "That's when Chris Morris (34-ball 42) and Kagiso Rabada (31*) joined hands to share a crucial 66-run partnership for the eighth wicket.\n",
      "\n",
      "****************New Sentence*************\n",
      "\n",
      "Just like what Bumrah did in his opening spell, Rabada's first few overs were always going to be important.\n",
      "\n",
      "****************New Sentence*************\n",
      "\n",
      "Unlike Indian wrist spinners, Imran Tahir and Tabraiz Shamsi weren't as effective but Morris was able to build on his batting performance and sent out seven economical overs in his first two spells, including three maiden overs.\n"
     ]
    }
   ],
   "source": [
    "for sentence in summary_2:\n",
    "    print(\"\\n****************New Sentence*************\\n\")\n",
    "    print(sentence)"
   ]
  },
  {
   "cell_type": "markdown",
   "metadata": {},
   "source": [
    "## TextRank Algorithm"
   ]
  },
  {
   "cell_type": "code",
   "execution_count": 11,
   "metadata": {},
   "outputs": [],
   "source": [
    "from sumy.summarizers.text_rank import TextRankSummarizer"
   ]
  },
  {
   "cell_type": "code",
   "execution_count": 12,
   "metadata": {},
   "outputs": [],
   "source": [
    "summarizer_TextRank = TextRankSummarizer()\n",
    "summarize_3 = summarizer_TextRank(parser.document,6)"
   ]
  },
  {
   "cell_type": "code",
   "execution_count": 13,
   "metadata": {},
   "outputs": [
    {
     "name": "stdout",
     "output_type": "stream",
     "text": [
      "\n",
      "****************New Sentence*************\n",
      "\n",
      "It didn't take much time for the top-ranked ODI bowler and India to get their first breakthrough as Hashim Amla (6) was caught at the second slip off an outswinger.Credit should also be given to Indian captain Kohli who went with three slips and reaped the reward for setting an attacking field.\n",
      "\n",
      "****************New Sentence*************\n",
      "\n",
      "The right-arm paceman found decent support from Bhuvneshwar who kept it nice and tidy in the first 10 overs.Du Plessis and Rassie van der Dussen then were able to calm down the storm by operating intelligently.\n",
      "\n",
      "****************New Sentence*************\n",
      "\n",
      "After the way they performed in South Africa last year, it was expected that India would go with two wrist spinners rather than playing the third seamer.Both du Plessis and van der Dussen didn't look much comfortable against Chahal and it was the legspinner who broke the crucial partnership.\n",
      "\n",
      "****************New Sentence*************\n",
      "\n",
      "With his partner bossing South African batsmen, Kuldeep too joined the party as JP Duminy (3) made the same mistake and was trapped right in front of the stumps after he failed to read a wrong'un.\n",
      "\n",
      "****************New Sentence*************\n",
      "\n",
      "Meanwhile, Rohit looked edgy at the start but was finally able to break the shackles in the eighth over in which he slammed Rabada for 6, 4 and 4.\n",
      "\n",
      "****************New Sentence*************\n",
      "\n",
      "4 spot after a century in the warm-up match, however couldn't convert his start into a big score as he chipped one of Rabada's deliveries straight into the hands of the mid-off fielder when he was on 26.\n"
     ]
    }
   ],
   "source": [
    "for sentence in summarize_3:\n",
    "    print(\"\\n****************New Sentence*************\\n\")\n",
    "    print(sentence)"
   ]
  }
 ],
 "metadata": {
  "kernelspec": {
   "display_name": "Python 3",
   "language": "python",
   "name": "python3"
  },
  "language_info": {
   "codemirror_mode": {
    "name": "ipython",
    "version": 3
   },
   "file_extension": ".py",
   "mimetype": "text/x-python",
   "name": "python",
   "nbconvert_exporter": "python",
   "pygments_lexer": "ipython3",
   "version": "3.6.8"
  }
 },
 "nbformat": 4,
 "nbformat_minor": 2
}

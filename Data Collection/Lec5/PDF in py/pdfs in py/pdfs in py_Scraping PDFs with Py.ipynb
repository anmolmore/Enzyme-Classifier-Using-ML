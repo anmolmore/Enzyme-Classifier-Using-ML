{
 "cells": [
  {
   "cell_type": "markdown",
   "metadata": {},
   "source": [
    "Class,\n",
    "\n",
    "As promised, here's a quick notebook on converting a directory full of PDFs into another directory folder full of equivalent text files.\n",
    "\n",
    "I expect you've followed install instructions and have the following modules loaded.\n",
    "> ## installation and setup for py 3.x (takes longtime to install!)\n",
    "conda install -c conda-forge pdfminer.six\n",
    "\n",
    "I have as a demo a folder with 3 DC slide deck pdf files. Let's read from and write to the same folder. "
   ]
  },
  {
   "cell_type": "code",
   "execution_count": 1,
   "metadata": {},
   "outputs": [],
   "source": [
    "## setup chunk\n",
    "import os\n",
    "import pdfminer\n",
    "import time\n",
    "import re\n",
    "import io"
   ]
  },
  {
   "cell_type": "markdown",
   "metadata": {},
   "source": [
    "Next we first explore and list out all directory contents (as a list of filenames)."
   ]
  },
  {
   "cell_type": "code",
   "execution_count": 2,
   "metadata": {},
   "outputs": [],
   "source": [
    "# list files from target directory\n",
    "from os import listdir\n",
    "path1 = u\"/Users/anmol/Dropbox/isb/Term1/Data Collection/Lec5/PDF in py/pdfs in py/\"\n",
    "filesList = os.listdir(path1)"
   ]
  },
  {
   "cell_type": "code",
   "execution_count": 3,
   "metadata": {},
   "outputs": [
    {
     "data": {
      "text/plain": [
       "['bookdown-tweepy.pdf.txt',\n",
       " 'lec 2 slide deck april 2019.pdf',\n",
       " 'bookdown-tweepy.pdf',\n",
       " 'lec 1 slide deck for LMS.pdf']"
      ]
     },
     "execution_count": 3,
     "metadata": {},
     "output_type": "execute_result"
    }
   ],
   "source": [
    "# using regex to retain only .pdf files\n",
    "import re\n",
    "filesFiltered = [f for f in filesList if re.search(r'\\.pdf',f)]\n",
    "filesFiltered"
   ]
  },
  {
   "cell_type": "markdown",
   "metadata": {},
   "source": [
    "### Write Func to convert one pdf file to text\n",
    "\n",
    "Idea is simple. If I can convert one pdf file, I can loop over the list and convert them all."
   ]
  },
  {
   "cell_type": "code",
   "execution_count": 4,
   "metadata": {},
   "outputs": [],
   "source": [
    "# converting one pdf file to text\n",
    "from io import StringIO\n",
    "from io import BytesIO\n",
    "from io import BytesIO as StringIO\n",
    "from urllib.request import urlopen\n",
    "from pdfminer.pdfinterp import PDFResourceManager, PDFPageInterpreter\n",
    "from pdfminer.converter import TextConverter\n",
    "from pdfminer.layout import LAParams\n",
    "from pdfminer.pdfpage import PDFPage\n",
    "import os\n",
    "import sys, getopt"
   ]
  },
  {
   "cell_type": "code",
   "execution_count": 5,
   "metadata": {},
   "outputs": [],
   "source": [
    "## func to convert pdf, return its text content as a string\n",
    "def convert(fname, pages=None):\n",
    "    if not pages:\n",
    "        pagenums = set()\n",
    "    else:\n",
    "        pagenums = set(pages)\n",
    "\n",
    "    output = StringIO()\n",
    "    manager = PDFResourceManager()\n",
    "    converter = TextConverter(manager, output, laparams=LAParams())\n",
    "    interpreter = PDFPageInterpreter(manager, converter)\n",
    "    print(os.path.join(fname))\n",
    "    infile = open(fname, 'rb')\n",
    "    for page in PDFPage.get_pages(infile, pagenums):\n",
    "        interpreter.process_page(page)\n",
    "    infile.close()\n",
    "    converter.close()\n",
    "    text = output.getvalue()\n",
    "    output.close\n",
    "    return text "
   ]
  },
  {
   "cell_type": "markdown",
   "metadata": {},
   "source": [
    "Notice the exception-handling done above for when num of pages to convert is not specified.\n",
    "\n",
    "Best practice is to always test drive a func after writing it.\n",
    "\n",
    "Any errors that show up will have to be handled with exception-handling etc."
   ]
  },
  {
   "cell_type": "code",
   "execution_count": 6,
   "metadata": {},
   "outputs": [
    {
     "name": "stdout",
     "output_type": "stream",
     "text": [
      "/Users/anmol/Dropbox/isb/Term1/Data Collection/Lec5/PDF in py/pdfs in py/bookdown-tweepy.pdf\n",
      "/Users/anmol/Dropbox/isb/Term1/Data Collection/Lec5/PDF in py/pdfs in py/bookdown-tweepy.pdf\n"
     ]
    },
    {
     "data": {
      "text/plain": [
       "0.5651040077209473"
      ]
     },
     "execution_count": 6,
     "metadata": {},
     "output_type": "execute_result"
    }
   ],
   "source": [
    "## trial the func\n",
    "fname = os.path.join(path1 + filesFiltered[2])\n",
    "#print(fname)\n",
    "#fname = fname.replace(\" \", \"\\\\ \")\n",
    "print(fname)\n",
    "t1 = time.time()\n",
    "text1 = convert(fname, pages=None)\n",
    "time.time() - t1  # 0.89 secs"
   ]
  },
  {
   "cell_type": "code",
   "execution_count": 7,
   "metadata": {},
   "outputs": [
    {
     "name": "stdout",
     "output_type": "stream",
     "text": [
      "b'Working with twitter in Python\\n\\nAashish Pandey\\n\\n2018-01-09\\n\\n\\x0c2\\n\\n\\x0cContents\\n\\n1 tweepy - A Python library for accessing the Twitter API\\n\\n2 - Creating the app\\n\\n3 - Getting Started\\n\\n4 - Getting all tweets '\n"
     ]
    }
   ],
   "source": [
    "print(text1[0:200])   # view first 200 odd chars of the output"
   ]
  },
  {
   "cell_type": "markdown",
   "metadata": {},
   "source": [
    "### Looping above func over all files in Dir"
   ]
  },
  {
   "cell_type": "code",
   "execution_count": 11,
   "metadata": {},
   "outputs": [],
   "source": [
    "## func to convert all pdfs in input directory (inpDir), save resulting txt files to outDir\n",
    "def convertMultiple(inpDir, outDir):\n",
    "    if inpDir == \"\": pdfDir = os.getcwd() + \"\\\\\" #if no pdfDir passed in \n",
    "    for pdf in os.listdir(inpDir): #iterate through pdfs in pdf directory\n",
    "        fileExtension = pdf.split(\".\")[-1]\n",
    "        if fileExtension == \"pdf\":\n",
    "            pdfFilename = inpDir + pdf \n",
    "            text = convert(pdfFilename) #get string of text content of pdf\n",
    "            textFilename = outDir + pdf + \".txt\"\n",
    "            textFile = io.open(textFilename, \"wb\", encoding = \"utf-8\") # make text file\n",
    "            textFile.write(text) #write text to text file"
   ]
  },
  {
   "cell_type": "code",
   "execution_count": 12,
   "metadata": {},
   "outputs": [],
   "source": [
    "# define trial folders\n",
    "inpDir = path1\n",
    "outDir = path1"
   ]
  },
  {
   "cell_type": "code",
   "execution_count": 13,
   "metadata": {},
   "outputs": [
    {
     "name": "stdout",
     "output_type": "stream",
     "text": [
      "/Users/anmol/Dropbox/isb/Term1/Data Collection/Lec5/PDF in py/pdfs in py/lec 2 slide deck april 2019.pdf\n"
     ]
    },
    {
     "ename": "ValueError",
     "evalue": "binary mode doesn't take an encoding argument",
     "output_type": "error",
     "traceback": [
      "\u001b[0;31m---------------------------------------------------------------------------\u001b[0m",
      "\u001b[0;31mValueError\u001b[0m                                Traceback (most recent call last)",
      "\u001b[0;32m<ipython-input-13-944d23be99a5>\u001b[0m in \u001b[0;36m<module>\u001b[0;34m\u001b[0m\n\u001b[1;32m      1\u001b[0m \u001b[0;31m# test-driving the func\u001b[0m\u001b[0;34m\u001b[0m\u001b[0;34m\u001b[0m\u001b[0;34m\u001b[0m\u001b[0m\n\u001b[1;32m      2\u001b[0m \u001b[0mt1\u001b[0m \u001b[0;34m=\u001b[0m \u001b[0mtime\u001b[0m\u001b[0;34m.\u001b[0m\u001b[0mtime\u001b[0m\u001b[0;34m(\u001b[0m\u001b[0;34m)\u001b[0m\u001b[0;34m\u001b[0m\u001b[0;34m\u001b[0m\u001b[0m\n\u001b[0;32m----> 3\u001b[0;31m \u001b[0mconvertMultiple\u001b[0m\u001b[0;34m(\u001b[0m\u001b[0minpDir\u001b[0m\u001b[0;34m,\u001b[0m \u001b[0moutDir\u001b[0m\u001b[0;34m)\u001b[0m\u001b[0;34m\u001b[0m\u001b[0;34m\u001b[0m\u001b[0m\n\u001b[0m\u001b[1;32m      4\u001b[0m \u001b[0mtime\u001b[0m\u001b[0;34m.\u001b[0m\u001b[0mtime\u001b[0m\u001b[0;34m(\u001b[0m\u001b[0;34m)\u001b[0m \u001b[0;34m-\u001b[0m \u001b[0mt1\u001b[0m  \u001b[0;31m# 3.8 secs\u001b[0m\u001b[0;34m\u001b[0m\u001b[0;34m\u001b[0m\u001b[0m\n",
      "\u001b[0;32m<ipython-input-11-99c269e79a7e>\u001b[0m in \u001b[0;36mconvertMultiple\u001b[0;34m(inpDir, outDir)\u001b[0m\n\u001b[1;32m      8\u001b[0m             \u001b[0mtext\u001b[0m \u001b[0;34m=\u001b[0m \u001b[0mconvert\u001b[0m\u001b[0;34m(\u001b[0m\u001b[0mpdfFilename\u001b[0m\u001b[0;34m)\u001b[0m \u001b[0;31m#get string of text content of pdf\u001b[0m\u001b[0;34m\u001b[0m\u001b[0;34m\u001b[0m\u001b[0m\n\u001b[1;32m      9\u001b[0m             \u001b[0mtextFilename\u001b[0m \u001b[0;34m=\u001b[0m \u001b[0moutDir\u001b[0m \u001b[0;34m+\u001b[0m \u001b[0mpdf\u001b[0m \u001b[0;34m+\u001b[0m \u001b[0;34m\".txt\"\u001b[0m\u001b[0;34m\u001b[0m\u001b[0;34m\u001b[0m\u001b[0m\n\u001b[0;32m---> 10\u001b[0;31m             \u001b[0mtextFile\u001b[0m \u001b[0;34m=\u001b[0m \u001b[0mio\u001b[0m\u001b[0;34m.\u001b[0m\u001b[0mopen\u001b[0m\u001b[0;34m(\u001b[0m\u001b[0mtextFilename\u001b[0m\u001b[0;34m,\u001b[0m \u001b[0;34m\"wb\"\u001b[0m\u001b[0;34m,\u001b[0m \u001b[0mencoding\u001b[0m \u001b[0;34m=\u001b[0m \u001b[0;34m\"utf-8\"\u001b[0m\u001b[0;34m)\u001b[0m \u001b[0;31m# make text file\u001b[0m\u001b[0;34m\u001b[0m\u001b[0;34m\u001b[0m\u001b[0m\n\u001b[0m\u001b[1;32m     11\u001b[0m             \u001b[0mtextFile\u001b[0m\u001b[0;34m.\u001b[0m\u001b[0mwrite\u001b[0m\u001b[0;34m(\u001b[0m\u001b[0mtext\u001b[0m\u001b[0;34m)\u001b[0m \u001b[0;31m#write text to text file\u001b[0m\u001b[0;34m\u001b[0m\u001b[0;34m\u001b[0m\u001b[0m\n",
      "\u001b[0;31mValueError\u001b[0m: binary mode doesn't take an encoding argument"
     ]
    }
   ],
   "source": [
    "# test-driving the func\n",
    "t1 = time.time()\n",
    "convertMultiple(inpDir, outDir)\n",
    "time.time() - t1  # 3.8 secs"
   ]
  },
  {
   "cell_type": "markdown",
   "metadata": {},
   "source": [
    "Done. Nice and easy.\n",
    "\n",
    "Sudhir"
   ]
  },
  {
   "cell_type": "code",
   "execution_count": null,
   "metadata": {},
   "outputs": [],
   "source": [
    "import sys \n",
    "reload(sys)\n",
    "sys.setdefaultencoding('utf-8')"
   ]
  },
  {
   "cell_type": "code",
   "execution_count": null,
   "metadata": {},
   "outputs": [],
   "source": []
  }
 ],
 "metadata": {
  "kernelspec": {
   "display_name": "Python 3",
   "language": "python",
   "name": "python3"
  },
  "language_info": {
   "codemirror_mode": {
    "name": "ipython",
    "version": 3
   },
   "file_extension": ".py",
   "mimetype": "text/x-python",
   "name": "python",
   "nbconvert_exporter": "python",
   "pygments_lexer": "ipython3",
   "version": "3.6.8"
  }
 },
 "nbformat": 4,
 "nbformat_minor": 2
}

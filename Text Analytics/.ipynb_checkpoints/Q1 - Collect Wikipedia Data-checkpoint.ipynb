{
 "cells": [
  {
   "cell_type": "markdown",
   "metadata": {},
   "source": [
    "Team Members :\n",
    "- Anmol More : 11915043\n",
    "- Dharani Kiran Kavuri : 11915033\n",
    "- Shubhendu Vimal : 11915067"
   ]
  },
  {
   "cell_type": "code",
   "execution_count": 1,
   "metadata": {},
   "outputs": [],
   "source": [
    "import wikipedia"
   ]
  },
  {
   "cell_type": "code",
   "execution_count": 2,
   "metadata": {},
   "outputs": [],
   "source": [
    "#Ref : https://pypi.org/project/wikipedia/\n",
    "topics = ['Brexit', 'Donald Trump', 'Game of Thrones', 'Bitcoin']\n",
    "for topic in topics :\n",
    "    wiki_page = wikipedia.WikipediaPage(title = topic)\n",
    "    with open(topic + \".txt\", \"w\") as text_file:\n",
    "        text_file.write(wiki_page.content)"
   ]
  }
 ],
 "metadata": {
  "kernelspec": {
   "display_name": "Python 3",
   "language": "python",
   "name": "python3"
  },
  "language_info": {
   "codemirror_mode": {
    "name": "ipython",
    "version": 3
   },
   "file_extension": ".py",
   "mimetype": "text/x-python",
   "name": "python",
   "nbconvert_exporter": "python",
   "pygments_lexer": "ipython3",
   "version": "3.6.8"
  }
 },
 "nbformat": 4,
 "nbformat_minor": 2
}

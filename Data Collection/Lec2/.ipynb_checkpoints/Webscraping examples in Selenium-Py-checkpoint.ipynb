{
 "cells": [
  {
   "cell_type": "markdown",
   "metadata": {},
   "source": [
    "A website which is decently organized without much dynamic elements can be easily scraped with selenium-py. In this markdown we will explore how to scrape airline reviews from skytrax.com (https://nycdatascience.com/blog/student-works/increasing-airline-customer-satisfaction/) and hotel reviews from tripadvisor.com"
   ]
  },
  {
   "cell_type": "markdown",
   "metadata": {},
   "source": [
    "## Installation"
   ]
  },
  {
   "cell_type": "markdown",
   "metadata": {},
   "source": [
    "Skip in case you have already installed"
   ]
  },
  {
   "cell_type": "code",
   "execution_count": 1,
   "metadata": {},
   "outputs": [],
   "source": [
    "import sys\n",
    "\n",
    "# !conda install pip\n",
    "# !pip install selenium\n",
    "# !pip install nltk\n",
    "# !pip install pandas"
   ]
  },
  {
   "cell_type": "markdown",
   "metadata": {},
   "source": [
    "## Scraping Airlines data\n",
    "<br>\n",
    "Step 1 : Import the necessary libraries"
   ]
  },
  {
   "cell_type": "code",
   "execution_count": 2,
   "metadata": {},
   "outputs": [],
   "source": [
    "from selenium import webdriver\n",
    "from selenium.webdriver.common.by import By\n",
    "from selenium.webdriver.support.ui import WebDriverWait\n",
    "from selenium.webdriver.support import expected_conditions as EC\n",
    "from nltk.sentiment.vader import SentimentIntensityAnalyzer\n",
    "import time\n",
    "import os\n",
    "import csv\n",
    "import pandas as pd\n",
    "from math import ceil"
   ]
  },
  {
   "cell_type": "markdown",
   "metadata": {},
   "source": [
    "Step 2 : Open a file for writing the reviews"
   ]
  },
  {
   "cell_type": "code",
   "execution_count": 3,
   "metadata": {},
   "outputs": [],
   "source": [
    "# Creates a new .csv file that the data will be written to\n",
    "csv_file = open('US_airline_reviews.csv', 'w', encoding=\"UTF-8\", newline=\"\")\n",
    "writer = csv.writer(csv_file)"
   ]
  },
  {
   "cell_type": "markdown",
   "metadata": {},
   "source": [
    "Step 3 : Now we have to create the variables and list of necessary urls which need to be scraped."
   ]
  },
  {
   "cell_type": "code",
   "execution_count": 4,
   "metadata": {},
   "outputs": [],
   "source": [
    "# Define the variables (future data frame columns) to be scraped\n",
    "writer.writerow(\n",
    "    ['airline', 'overall', 'author', 'review_date', 'customer_review', 'aircraft', 'traveller_type', 'cabin', 'route',\n",
    "     'date_flown', 'seat_comfort', 'cabin_service', 'food_bev', 'entertainment', 'ground_service', 'value_for_money',\n",
    "     'recommended'])\n",
    "\n",
    "# US_airlines is a list of all the webpage endings corresponding to the pages for the airlines I want to get reviews for\n",
    "US_airlines = [\"air-india/\",\"air-india-express/\",\"spicejet/\",\"jet-airways/\",\"indigo-airlines/\",\"goair/\",\"airasia-india/\",\"vistara/\"]\n",
    "\n",
    "# Get the actual URLs with a list comprehension using the above list\n",
    "US_airline_pages = [\"http://www.airlinequality.com/airline-reviews/\" + airline for airline in US_airlines]\n",
    "# driver.get(\"http://www.airlinequality.com/review-pages/a-z-airline-reviews/\")"
   ]
  },
  {
   "cell_type": "markdown",
   "metadata": {},
   "source": [
    "Step 4 : Invoke the webdriver"
   ]
  },
  {
   "cell_type": "code",
   "execution_count": 5,
   "metadata": {},
   "outputs": [],
   "source": [
    "locationOfWebdriver = \"data/chromedriver\"\n",
    "\n",
    "driver = webdriver.Chrome(locationOfWebdriver)"
   ]
  },
  {
   "cell_type": "markdown",
   "metadata": {},
   "source": [
    "Step 5 : Now in a loop select the elements you want to scrape as a part of the review and append it to the dataframe You can find the following loop structure translated to code in the next cell.\n",
    "For each airline:\n",
    "1. Find the total number of reviews present for the airline\n",
    "2. Create custom url to load each page of review for the given airline.\n",
    "3. Loop over each page and extract all the review elements\n",
    "\n",
    "For each review:\n",
    "    1. Extract the required parameters - It is generally recommended to put them in a try-catch block \n",
    "       because any changes in the page/review layout might give NoSuchElementException.\n",
    "        •   airline\n",
    "        •   overall\n",
    "        •   author\n",
    "        •   review_date\n",
    "        •   customer_review\n",
    "        •   aircraft\n",
    "        •   traveller_type\n",
    "        •   cabin\n",
    "        •   route\n",
    "        •   date_flown\n",
    "        •   seat_comfort\n",
    "        •   cabin_service\n",
    "        •   food_bev\n",
    "        •   entertainment\n",
    "        •   ground_service\n",
    "        •   value_for_money\n",
    "        •   recommended\n",
    "    2. Write them to csv file."
   ]
  },
  {
   "cell_type": "code",
   "execution_count": 6,
   "metadata": {},
   "outputs": [
    {
     "name": "stdout",
     "output_type": "stream",
     "text": [
      "========================================\n",
      "Scraping http://www.airlinequality.com/airline-reviews/air-india/\n",
      "========================================\n",
      "Scraping http://www.airlinequality.com/airline-reviews/air-india-express/\n",
      "========================================\n",
      "Scraping http://www.airlinequality.com/airline-reviews/spicejet/\n",
      "========================================\n",
      "Scraping http://www.airlinequality.com/airline-reviews/jet-airways/\n",
      "========================================\n",
      "Scraping http://www.airlinequality.com/airline-reviews/indigo-airlines/\n",
      "========================================\n",
      "Scraping http://www.airlinequality.com/airline-reviews/goair/\n",
      "========================================\n",
      "Scraping http://www.airlinequality.com/airline-reviews/airasia-india/\n",
      "========================================\n",
      "Scraping http://www.airlinequality.com/airline-reviews/vistara/\n",
      "CPU times: user 51.7 s, sys: 2.59 s, total: 54.3 s\n",
      "Wall time: 48min 20s\n"
     ]
    }
   ],
   "source": [
    "%%time\n",
    "# This outer 'for loop' iterates through the different airline websites\n",
    "# The sleep time has been set to 5secs since loading entirely new pages has proven to take longer\n",
    "# than iterating through the pages of reviews within a single airline\n",
    "for page in US_airline_pages:\n",
    "    driver.get(page)\n",
    "    time.sleep(10)\n",
    "    try:\n",
    "        print(\"=\" * 40)  # Shows in terminal when a new airline is being scraped\n",
    "        print(\"Scraping \" + page)\n",
    "\n",
    "        # Find total number of reviews for the airline\n",
    "        # Turn value into a float\n",
    "        # Each page defaults to showing 10 reviews, so take the ceiling of the total number of reviews divided by 10\n",
    "        # to get the number of pages of reviews for the airline\n",
    "        review_count = driver.find_element_by_xpath(\n",
    "            '//div[@class = \"rating-totals\"]//span[@itemprop = \"reviewCount\"]').text\n",
    "        review_count = float(review_count)\n",
    "        n = int(ceil(review_count / 10))\n",
    "\n",
    "        # Iterate through all the pages of reviews for the airline in question\n",
    "        index = 1\n",
    "        while index <= n:\n",
    "            driver.get(page + \"page/\" + str(index) + '/')\n",
    "            time.sleep(5)\n",
    "\n",
    "            try:\n",
    "                index = index + 1\n",
    "\n",
    "                # Find all the reviews:\n",
    "                reviews = driver.find_elements_by_xpath('//article[@itemprop = \"review\"]')\n",
    "                for review in reviews:\n",
    "\n",
    "                    # Initialize an empty dictionary for each review\n",
    "                    review_dict = {}\n",
    "\n",
    "                    # Find xpaths of the fields desired as columns in future data frame\n",
    "                    # We use the try/except statements to account for the fact that the reviews are not required to have\n",
    "                    # all the fields listed below, and if a review does not have a certain field we wish to make the\n",
    "                    # corresponding field blank in that particular row, rather than quit upon receiving an error.\n",
    "                    try:\n",
    "                        airline = review.find_element_by_xpath(\n",
    "                            '//div[@class = \"review-heading\"]//h1[@itemprop = \"name\"]').text\n",
    "                    except:\n",
    "                        airline = page\n",
    "                    try:\n",
    "                        overall = review.find_element_by_xpath('.//span[@itemprop = \"ratingValue\"]').text\n",
    "                    except:\n",
    "                        overall = \"\"\n",
    "                    try:\n",
    "                        author = review.find_element_by_xpath(\n",
    "                            './/h3[@class = \"text_sub_header userStatusWrapper\"]//span[@itemprop = \"name\"]').text\n",
    "                    except:\n",
    "                        author = \"\"\n",
    "                    try:\n",
    "                        review_date = review.find_element_by_xpath('.//time[@itemprop = \"datePublished\"]').text\n",
    "                    except:\n",
    "                        review_date = \"\"\n",
    "                    try:\n",
    "                        customer_review = review.find_element_by_xpath('.//div[@itemprop = \"reviewBody\"]').text\n",
    "                    except:\n",
    "                        customer_review = \"\"\n",
    "                    try:\n",
    "                        aircraft_label = review.find_element_by_xpath(\n",
    "                            './/table[@class = \"review-ratings\"]//td[@class = \"review-rating-header aircraft \"]')\n",
    "                        aircraft = review.find_element_by_xpath(\n",
    "                            './/table[@class = \"review-ratings\"]//td[@class = \"review-rating-header aircraft \"]/following-sibling::td').text\n",
    "                    except:\n",
    "                        aircraft = \"\"\n",
    "                    try:\n",
    "                        traveller_label = review.find_element_by_xpath(\n",
    "                            './/table[@class = \"review-ratings\"]//td[@class = \"review-rating-header type_of_traveller \"]')\n",
    "                        traveller_type = review.find_element_by_xpath(\n",
    "                            './/table[@class = \"review-ratings\"]//td[@class = \"review-rating-header type_of_traveller \"]/following-sibling::td').text\n",
    "                    except:\n",
    "                        traveller_type = \"\"\n",
    "                    try:\n",
    "                        cabin_label = review.find_element_by_xpath(\n",
    "                            './/table[@class = \"review-ratings\"]//td[@class = \"review-rating-header cabin_flown \"]')\n",
    "                        cabin = review.find_element_by_xpath(\n",
    "                            './/table[@class = \"review-ratings\"]//td[@class = \"review-rating-header cabin_flown \"]/following-sibling::td').text\n",
    "                    except:\n",
    "                        cabin = \"\"\n",
    "                    try:\n",
    "                        route_label = review.find_element_by_xpath(\n",
    "                            './/table[@class = \"review-ratings\"]//td[@class = \"review-rating-header route \"]')\n",
    "                        route = review.find_element_by_xpath(\n",
    "                            './/table[@class = \"review-ratings\"]//td[@class = \"review-rating-header route \"]/following-sibling::td').text\n",
    "                    except:\n",
    "                        route = \"\"\n",
    "                    try:\n",
    "                        date_label = review.find_element_by_xpath(\n",
    "                            './/table[@class = \"review-ratings\"]//td[@class = \"review-rating-header date_flown \"]')\n",
    "                        date_flown = review.find_element_by_xpath(\n",
    "                            './/table[@class = \"review-ratings\"]//td[@class = \"review-rating-header date_flown \"]/following-sibling::td').text\n",
    "                    except:\n",
    "                        date_flown = \"\"\n",
    "                    try:\n",
    "                        seat_label = review.find_element_by_xpath(\n",
    "                            './/table[@class = \"review-ratings\"]//td[@class = \"review-rating-header seat_comfort\"]')\n",
    "                        seat_comfort = review.find_element_by_xpath(\n",
    "                            './/table[@class = \"review-ratings\"]//td[@class = \"review-rating-header seat_comfort\"]/following-sibling::td/span[@class = \"star fill\"][last()]').text\n",
    "                    except:\n",
    "                        seat_comfort = \"\"\n",
    "                    try:\n",
    "                        cabin_service_label = review.find_element_by_xpath(\n",
    "                            './/table[@class = \"review-ratings\"]//td[@class = \"review-rating-header cabin_staff_service\"]')\n",
    "                        cabin_service = review.find_element_by_xpath(\n",
    "                            './/table[@class = \"review-ratings\"]//td[@class = \"review-rating-header cabin_staff_service\"]/following-sibling::td//span[@class = \"star fill\"][last()]').text\n",
    "                    except:\n",
    "                        cabin_service = \"\"\n",
    "                    try:\n",
    "                        food_bev_label = review.find_element_by_xpath(\n",
    "                            './/table[@class = \"review-ratings\"]//td[@class = \"review-rating-header food_and_beverages\"]')\n",
    "                        food_bev = review.find_element_by_xpath(\n",
    "                            './/table[@class = \"review-ratings\"]//td[@class = \"review-rating-header food_and_beverages\"]/following-sibling::td//span[@class = \"star fill\"][last()]').text\n",
    "                    except:\n",
    "                        food_bev = \"\"\n",
    "                    try:\n",
    "                        entertainment_label = review.find_element_by_xpath(\n",
    "                            './/table[@class = \"review-ratings\"]//td[@class = \"review-rating-header inflight_entertainment\"]')\n",
    "                        entertainment = review.find_element_by_xpath(\n",
    "                            './/table[@class = \"review-ratings\"]//td[@class = \"review-rating-header inflight_entertainment\"]/following-sibling::td//span[@class = \"star fill\"][last()]').text\n",
    "                    except:\n",
    "                        entertainment = \"\"\n",
    "                    try:\n",
    "                        ground_service_label = review.find_element_by_xpath(\n",
    "                            './/table[@class = \"review-ratings\"]//td[@class = \"review-rating-header ground_service\"]')\n",
    "                        ground_service = review.find_element_by_xpath(\n",
    "                            './/table[@class = \"review-ratings\"]//td[@class = \"review-rating-header ground_service\"]/following-sibling::td//span[@class = \"star fill\"][last()]').text\n",
    "                    except:\n",
    "                        ground_service = \"\"\n",
    "                    try:\n",
    "                        wifi_label = review.find_element_by_xpath(\n",
    "                            './/table[@class = \"review-ratings\"]//td[@class = \"review-rating-header wifi_and_connectivity\"]')\n",
    "                        wifi = review.find_element_by_xpath(\n",
    "                            './/table[@class = \"review-ratings\"]//td[@class = \"review-rating-header wifi_and_connectivity\"]/following-sibling::td//span[@class = \"star fill\"][last()]').text\n",
    "                    except:\n",
    "                        wifi = \"\"\n",
    "                    try:\n",
    "                        value_label = review.find_element_by_xpath(\n",
    "                            './/table[@class = \"review-ratings\"]//td[@class = \"review-rating-header value_for_money\"]')\n",
    "                        value_for_money = review.find_element_by_xpath(\n",
    "                            './/table[@class = \"review-ratings\"]//td[@class = \"review-rating-header value_for_money\"]/following-sibling::td//span[@class = \"star fill\"][last()]').text\n",
    "                    except:\n",
    "                        value_for_money = \"\"\n",
    "                    try:\n",
    "                        recommended_label = review.find_element_by_xpath(\n",
    "                            './/table[@class = \"review-ratings\"]//td[@class = \"review-rating-header recommended\"]')\n",
    "                        recommended = review.find_element_by_xpath(\n",
    "                            './/table[@class = \"review-ratings\"]//td[@class = \"review-rating-header recommended\"]/following-sibling::td').text\n",
    "                    except:\n",
    "                        recommended = \"\"\n",
    "\n",
    "                    # Write the results of the above to a dictionary. Note that each overall review will have its\n",
    "                    # own dictionary, but all dictionaries for all the rows will all have the same keys. This\n",
    "                    # allows Selenium to write the contents of these dictionaries into a coherent .csv file\n",
    "                    review_dict['airline'] = airline\n",
    "                    review_dict['overall'] = overall\n",
    "                    review_dict['author'] = author\n",
    "                    review_dict['review_date'] = review_date\n",
    "                    review_dict['customer_review'] = customer_review\n",
    "                    review_dict['aircraft'] = aircraft\n",
    "                    review_dict['traveller_type'] = traveller_type\n",
    "                    review_dict['cabin'] = cabin\n",
    "                    review_dict['route'] = route\n",
    "                    review_dict['date_flown'] = date_flown\n",
    "                    review_dict['seat_comfort'] = seat_comfort\n",
    "                    review_dict['cabin_service'] = cabin_service\n",
    "                    review_dict['food_bev'] = food_bev\n",
    "                    review_dict['entertainment'] = entertainment\n",
    "                    review_dict['ground_service'] = ground_service\n",
    "                    review_dict['value_for_money'] = value_for_money\n",
    "                    review_dict['recommended'] = recommended\n",
    "                    writer.writerow(review_dict.values())\n",
    "\n",
    "            # If an error is thrown unrelated to the above variables, print the error to the terminal\n",
    "            # console, close the .csv file, and break the while loop.\n",
    "            except Exception as e:\n",
    "                print(e)\n",
    "                csv_file.close()\n",
    "                # driver.close()\n",
    "                break\n",
    "\n",
    "    # If an error is thrown between airline pages, print the error to the terminal\n",
    "    # console, close the .csv file, and break the while loop.\n",
    "    except Exception as e:\n",
    "        print(e)\n",
    "        csv_file.close()\n",
    "        # driver.close()\n",
    "        break"
   ]
  },
  {
   "cell_type": "markdown",
   "metadata": {},
   "source": [
    "Step 6 : Close all the files that have been opened"
   ]
  },
  {
   "cell_type": "code",
   "execution_count": 7,
   "metadata": {},
   "outputs": [],
   "source": [
    "csv_file.close()\n",
    "driver.close()"
   ]
  },
  {
   "cell_type": "markdown",
   "metadata": {},
   "source": [
    "Now let's take a look at the tripadvisor example"
   ]
  },
  {
   "cell_type": "markdown",
   "metadata": {},
   "source": [
    "## Tripadvisor hotel ratings"
   ]
  },
  {
   "cell_type": "markdown",
   "metadata": {},
   "source": [
    "We will follow a similar approach in this example as well, however we will not be extracting a lot of parameters and thus our for loop structure will be concise.\n",
    "<br>\n",
    "Step 1: Import the required libraries"
   ]
  },
  {
   "cell_type": "code",
   "execution_count": 8,
   "metadata": {},
   "outputs": [],
   "source": [
    "from selenium import webdriver\n",
    "from selenium.webdriver.common.by import By\n",
    "from selenium.webdriver.support.ui import WebDriverWait\n",
    "from selenium.webdriver.support import expected_conditions as EC\n",
    "import time\n",
    "import os\n",
    "import csv\n",
    "import pandas as pd\n",
    "from math import ceil"
   ]
  },
  {
   "cell_type": "markdown",
   "metadata": {},
   "source": [
    "Step 2 : Created the output file"
   ]
  },
  {
   "cell_type": "code",
   "execution_count": 9,
   "metadata": {},
   "outputs": [],
   "source": [
    "file = open(\"tripadvisor.txt\",\"w\",encoding=\"UTF-8\",errors=\"ignore\")"
   ]
  },
  {
   "cell_type": "markdown",
   "metadata": {},
   "source": [
    "Step 3 : I created a function to write reviews and since each review possibly contains newlines, I have appended \"---------\" at the end of each review for easy demarcation between reviews"
   ]
  },
  {
   "cell_type": "code",
   "execution_count": 10,
   "metadata": {},
   "outputs": [],
   "source": [
    "def writeReviews(reviews):\n",
    "    for review in reviews:\n",
    "        file.write(review.text)\n",
    "        file.write(\"----------------\")"
   ]
  },
  {
   "cell_type": "markdown",
   "metadata": {},
   "source": [
    "Step 4 : Now loop over to collect the first 300 reviews\n",
    "<br>\n",
    "For each page:\n",
    "<br>\n",
    "1. Create a custom URL to load each page of review.\n",
    "2. Expand each review by clicking on the \"More\" button\n",
    "3. Extract review text using css-selector"
   ]
  },
  {
   "cell_type": "code",
   "execution_count": 11,
   "metadata": {},
   "outputs": [],
   "source": [
    "url = \"https://www.tripadvisor.in/Hotel_Review-g32655-d84502-Reviews-Magic_Castle_Hotel-Los_Angeles_California.html#REVIEWS\"\n",
    "\n",
    "driver = webdriver.Chrome('data/chromedriver')\n",
    "driver.get(url)\n",
    "reviews = driver.find_elements_by_class_name(\"partial_entry\")\n",
    "writeReviews(reviews)\n",
    "\n",
    "for i in range(5,305,5):\n",
    "    url = \"https://www.tripadvisor.in/Hotel_Review-g32655-d84502-Reviews-or\" + str(i) + \"-Magic_Castle_Hotel-Los_Angeles_California.html#REVIEWS\"\n",
    "    driver.get(url)\n",
    "    \n",
    "    # The reviews are displayed in condensed format so have to expand all of them before extracting\n",
    "    buttons = driver.find_elements_by_xpath(\"//span[contains(text(), 'More')]\")\n",
    "    for button in buttons:\n",
    "        try:\n",
    "            button.click()\n",
    "        except:\n",
    "            pass\n",
    "    reviews = driver.find_elements_by_class_name(\"partial_entry\")\n",
    "    writeReviews(reviews)\n",
    "\n",
    "# Close the files\n",
    "file.close()\n",
    "driver.close()"
   ]
  },
  {
   "cell_type": "code",
   "execution_count": null,
   "metadata": {},
   "outputs": [],
   "source": []
  }
 ],
 "metadata": {
  "kernelspec": {
   "display_name": "Python 3",
   "language": "python",
   "name": "python3"
  },
  "language_info": {
   "codemirror_mode": {
    "name": "ipython",
    "version": 3
   },
   "file_extension": ".py",
   "mimetype": "text/x-python",
   "name": "python",
   "nbconvert_exporter": "python",
   "pygments_lexer": "ipython3",
   "version": "3.6.8"
  }
 },
 "nbformat": 4,
 "nbformat_minor": 2
}

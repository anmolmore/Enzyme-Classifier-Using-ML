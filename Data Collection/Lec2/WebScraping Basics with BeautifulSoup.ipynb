{
 "cells": [
  {
   "cell_type": "markdown",
   "metadata": {},
   "source": [
    "In this markdown, we shall explore Python's beautifulsoup and how to scrape details."
   ]
  },
  {
   "cell_type": "markdown",
   "metadata": {},
   "source": [
    "### Installation"
   ]
  },
  {
   "cell_type": "markdown",
   "metadata": {},
   "source": [
    "Skip in case you have already installed"
   ]
  },
  {
   "cell_type": "code",
   "execution_count": 1,
   "metadata": {},
   "outputs": [],
   "source": [
    "import sys"
   ]
  },
  {
   "cell_type": "markdown",
   "metadata": {},
   "source": [
    "### Import the required libraries"
   ]
  },
  {
   "cell_type": "code",
   "execution_count": 1,
   "metadata": {},
   "outputs": [],
   "source": [
    "from bs4 import BeautifulSoup\n",
    "import requests   # use this only, not urllibx anymore."
   ]
  },
  {
   "cell_type": "markdown",
   "metadata": {},
   "source": [
    "### Create BeautifulSoup object and scrape the details"
   ]
  },
  {
   "cell_type": "code",
   "execution_count": 3,
   "metadata": {},
   "outputs": [],
   "source": [
    "page = requests.get(\"https://news.ycombinator.com\").text\n",
    "soup_obj = BeautifulSoup(page, \"lxml\")"
   ]
  },
  {
   "cell_type": "code",
   "execution_count": 2,
   "metadata": {},
   "outputs": [],
   "source": [
    "BeautifulSoup?"
   ]
  },
  {
   "cell_type": "markdown",
   "metadata": {},
   "source": [
    "Once we have the beautiful soup object, we’re well into the game."
   ]
  },
  {
   "cell_type": "code",
   "execution_count": 4,
   "metadata": {},
   "outputs": [],
   "source": [
    "# Collecting story titles\n",
    "title = soup_obj.find_all('a', class_ = \"storylink\")"
   ]
  },
  {
   "cell_type": "code",
   "execution_count": 5,
   "metadata": {},
   "outputs": [],
   "source": [
    "# Writing into a list as below. Note that .string is == html_text()\n",
    "title_list = [test1.string for test1 in title]"
   ]
  },
  {
   "cell_type": "code",
   "execution_count": 6,
   "metadata": {},
   "outputs": [],
   "source": [
    "# Collect story urls and write into a list.\n",
    "links_list = [links1.get('href') for links1 in title]"
   ]
  },
  {
   "cell_type": "markdown",
   "metadata": {},
   "source": [
    "Note that .get('href') above applies to indiv list elems, not on list itself."
   ]
  },
  {
   "cell_type": "markdown",
   "metadata": {},
   "source": [
    "So what we have above is a set of 2 different lists for the 2 quantities we wanted to analyze.\n",
    "Time to bind them into a df using pandas."
   ]
  },
  {
   "cell_type": "code",
   "execution_count": 7,
   "metadata": {},
   "outputs": [],
   "source": [
    "import pandas as pd\n",
    "py_df = pd.DataFrame(\n",
    "{'title': title_list,\n",
    "'links': links_list})"
   ]
  },
  {
   "cell_type": "code",
   "execution_count": 8,
   "metadata": {},
   "outputs": [
    {
     "data": {
      "text/html": [
       "<div>\n",
       "<style scoped>\n",
       "    .dataframe tbody tr th:only-of-type {\n",
       "        vertical-align: middle;\n",
       "    }\n",
       "\n",
       "    .dataframe tbody tr th {\n",
       "        vertical-align: top;\n",
       "    }\n",
       "\n",
       "    .dataframe thead th {\n",
       "        text-align: right;\n",
       "    }\n",
       "</style>\n",
       "<table border=\"1\" class=\"dataframe\">\n",
       "  <thead>\n",
       "    <tr style=\"text-align: right;\">\n",
       "      <th></th>\n",
       "      <th>title</th>\n",
       "      <th>links</th>\n",
       "    </tr>\n",
       "  </thead>\n",
       "  <tbody>\n",
       "    <tr>\n",
       "      <th>0</th>\n",
       "      <td>Underwater Exploring Is Banned in Brazil (1985)</td>\n",
       "      <td>https://www.nytimes.com/1985/06/25/science/und...</td>\n",
       "    </tr>\n",
       "    <tr>\n",
       "      <th>1</th>\n",
       "      <td>Structure and Interpretation of Classical Mech...</td>\n",
       "      <td>https://mitpress.mit.edu/sites/default/files/t...</td>\n",
       "    </tr>\n",
       "    <tr>\n",
       "      <th>2</th>\n",
       "      <td>Back in the Day: Unix, Minix and Linux</td>\n",
       "      <td>https://www.linuxjournal.com/content/back-day-...</td>\n",
       "    </tr>\n",
       "    <tr>\n",
       "      <th>3</th>\n",
       "      <td>Writing an OS in Rust: Testing</td>\n",
       "      <td>https://os.phil-opp.com/testing/</td>\n",
       "    </tr>\n",
       "    <tr>\n",
       "      <th>4</th>\n",
       "      <td>Show HN: nhooyr.io/websocket: A minimal and id...</td>\n",
       "      <td>https://github.com/nhooyr/websocket</td>\n",
       "    </tr>\n",
       "    <tr>\n",
       "      <th>5</th>\n",
       "      <td>A Small Town in the Philippines Takes a Stand:...</td>\n",
       "      <td>https://www.msn.com/en-gb/news/world/a-small-t...</td>\n",
       "    </tr>\n",
       "    <tr>\n",
       "      <th>6</th>\n",
       "      <td>Out of sight but not invisible: Defeating file...</td>\n",
       "      <td>https://www.microsoft.com/security/blog/2018/0...</td>\n",
       "    </tr>\n",
       "    <tr>\n",
       "      <th>7</th>\n",
       "      <td>Political radicals don’t evaluate their own er...</td>\n",
       "      <td>https://arstechnica.com/science/2018/12/radica...</td>\n",
       "    </tr>\n",
       "    <tr>\n",
       "      <th>8</th>\n",
       "      <td>You’re probably using the wrong dictionary (2014)</td>\n",
       "      <td>http://jsomers.net/blog/dictionary</td>\n",
       "    </tr>\n",
       "    <tr>\n",
       "      <th>9</th>\n",
       "      <td>Jerry (YC S17) Is Hiring Senior Software Devel...</td>\n",
       "      <td>https://www.workable.com/j/089F60DE31</td>\n",
       "    </tr>\n",
       "    <tr>\n",
       "      <th>10</th>\n",
       "      <td>Traccar – Modern GPS Tracking Platform</td>\n",
       "      <td>https://www.traccar.org/</td>\n",
       "    </tr>\n",
       "    <tr>\n",
       "      <th>11</th>\n",
       "      <td>Dark Matter Detector Records One of the Rarest...</td>\n",
       "      <td>https://www.sciencealert.com/a-dark-matter-det...</td>\n",
       "    </tr>\n",
       "    <tr>\n",
       "      <th>12</th>\n",
       "      <td>Hacker Finds He Can Remotely Kill Car Engines ...</td>\n",
       "      <td>https://motherboard.vice.com/en_us/article/zmp...</td>\n",
       "    </tr>\n",
       "    <tr>\n",
       "      <th>13</th>\n",
       "      <td>Apple has removed or restricted several screen...</td>\n",
       "      <td>https://www.nytimes.com/2019/04/27/technology/...</td>\n",
       "    </tr>\n",
       "    <tr>\n",
       "      <th>14</th>\n",
       "      <td>HOList: An Environment for Machine Learning of...</td>\n",
       "      <td>https://arxiv.org/abs/1904.0324</td>\n",
       "    </tr>\n",
       "    <tr>\n",
       "      <th>15</th>\n",
       "      <td>SETL programming language</td>\n",
       "      <td>https://setl.org/setl/</td>\n",
       "    </tr>\n",
       "    <tr>\n",
       "      <th>16</th>\n",
       "      <td>The Riemann Hypothesis, explained (2016)</td>\n",
       "      <td>https://medium.com/cantors-paradise/the-rieman...</td>\n",
       "    </tr>\n",
       "    <tr>\n",
       "      <th>17</th>\n",
       "      <td>Scientists discover what powers celestial phen...</td>\n",
       "      <td>https://phys.org/news/2019-04-scientists-power...</td>\n",
       "    </tr>\n",
       "    <tr>\n",
       "      <th>18</th>\n",
       "      <td>Intel Stockpiling 10nm Chips</td>\n",
       "      <td>https://arstechnica.com/gadgets/2019/04/intel-...</td>\n",
       "    </tr>\n",
       "    <tr>\n",
       "      <th>19</th>\n",
       "      <td>Persistence of Gravitational-Wave Memory</td>\n",
       "      <td>https://physics.aps.org/synopsis-for/10.1103/P...</td>\n",
       "    </tr>\n",
       "    <tr>\n",
       "      <th>20</th>\n",
       "      <td>Data Positivism Since World War II [pdf]</td>\n",
       "      <td>http://www.columbia.edu/~mj340/HSNS4805_12_Jon...</td>\n",
       "    </tr>\n",
       "    <tr>\n",
       "      <th>21</th>\n",
       "      <td>Google Is Eating Our Mail</td>\n",
       "      <td>https://www.tablix.org/~avian/blog/archives/20...</td>\n",
       "    </tr>\n",
       "    <tr>\n",
       "      <th>22</th>\n",
       "      <td>Programming Languages in 15 Minutes [video]</td>\n",
       "      <td>https://www.youtube.com/watch?v=duhDovqHbEs</td>\n",
       "    </tr>\n",
       "    <tr>\n",
       "      <th>23</th>\n",
       "      <td>Google search only has 60% of my content from ...</td>\n",
       "      <td>https://www.tablix.org/~avian/blog/archives/20...</td>\n",
       "    </tr>\n",
       "    <tr>\n",
       "      <th>24</th>\n",
       "      <td>Librem 5 April Update</td>\n",
       "      <td>https://puri.sm/posts/april-progress-update-li...</td>\n",
       "    </tr>\n",
       "    <tr>\n",
       "      <th>25</th>\n",
       "      <td>Mozilla is giving up on their IRC server</td>\n",
       "      <td>http://exple.tive.org/blarg/2019/04/26/synchro...</td>\n",
       "    </tr>\n",
       "    <tr>\n",
       "      <th>26</th>\n",
       "      <td>Speech synthesis from neural decoding of spoke...</td>\n",
       "      <td>https://www.nature.com/articles/s41586-019-1119-1</td>\n",
       "    </tr>\n",
       "    <tr>\n",
       "      <th>27</th>\n",
       "      <td>A New Approach to Multiplication Opens the Doo...</td>\n",
       "      <td>https://www.quantamagazine.org/a-new-approach-...</td>\n",
       "    </tr>\n",
       "    <tr>\n",
       "      <th>28</th>\n",
       "      <td>Show HN: Cedreo – Home construction drawings a...</td>\n",
       "      <td>https://cedreo.com/en/</td>\n",
       "    </tr>\n",
       "    <tr>\n",
       "      <th>29</th>\n",
       "      <td>I'm a Data Scientist Making $125K and It's Not...</td>\n",
       "      <td>https://www.refinery29.com/en-us/six-figure-pa...</td>\n",
       "    </tr>\n",
       "  </tbody>\n",
       "</table>\n",
       "</div>"
      ],
      "text/plain": [
       "                                                title  \\\n",
       "0     Underwater Exploring Is Banned in Brazil (1985)   \n",
       "1   Structure and Interpretation of Classical Mech...   \n",
       "2              Back in the Day: Unix, Minix and Linux   \n",
       "3                      Writing an OS in Rust: Testing   \n",
       "4   Show HN: nhooyr.io/websocket: A minimal and id...   \n",
       "5   A Small Town in the Philippines Takes a Stand:...   \n",
       "6   Out of sight but not invisible: Defeating file...   \n",
       "7   Political radicals don’t evaluate their own er...   \n",
       "8   You’re probably using the wrong dictionary (2014)   \n",
       "9   Jerry (YC S17) Is Hiring Senior Software Devel...   \n",
       "10             Traccar – Modern GPS Tracking Platform   \n",
       "11  Dark Matter Detector Records One of the Rarest...   \n",
       "12  Hacker Finds He Can Remotely Kill Car Engines ...   \n",
       "13  Apple has removed or restricted several screen...   \n",
       "14  HOList: An Environment for Machine Learning of...   \n",
       "15                          SETL programming language   \n",
       "16           The Riemann Hypothesis, explained (2016)   \n",
       "17  Scientists discover what powers celestial phen...   \n",
       "18                       Intel Stockpiling 10nm Chips   \n",
       "19           Persistence of Gravitational-Wave Memory   \n",
       "20           Data Positivism Since World War II [pdf]   \n",
       "21                          Google Is Eating Our Mail   \n",
       "22        Programming Languages in 15 Minutes [video]   \n",
       "23  Google search only has 60% of my content from ...   \n",
       "24                              Librem 5 April Update   \n",
       "25           Mozilla is giving up on their IRC server   \n",
       "26  Speech synthesis from neural decoding of spoke...   \n",
       "27  A New Approach to Multiplication Opens the Doo...   \n",
       "28  Show HN: Cedreo – Home construction drawings a...   \n",
       "29  I'm a Data Scientist Making $125K and It's Not...   \n",
       "\n",
       "                                                links  \n",
       "0   https://www.nytimes.com/1985/06/25/science/und...  \n",
       "1   https://mitpress.mit.edu/sites/default/files/t...  \n",
       "2   https://www.linuxjournal.com/content/back-day-...  \n",
       "3                    https://os.phil-opp.com/testing/  \n",
       "4                 https://github.com/nhooyr/websocket  \n",
       "5   https://www.msn.com/en-gb/news/world/a-small-t...  \n",
       "6   https://www.microsoft.com/security/blog/2018/0...  \n",
       "7   https://arstechnica.com/science/2018/12/radica...  \n",
       "8                  http://jsomers.net/blog/dictionary  \n",
       "9               https://www.workable.com/j/089F60DE31  \n",
       "10                           https://www.traccar.org/  \n",
       "11  https://www.sciencealert.com/a-dark-matter-det...  \n",
       "12  https://motherboard.vice.com/en_us/article/zmp...  \n",
       "13  https://www.nytimes.com/2019/04/27/technology/...  \n",
       "14                    https://arxiv.org/abs/1904.0324  \n",
       "15                             https://setl.org/setl/  \n",
       "16  https://medium.com/cantors-paradise/the-rieman...  \n",
       "17  https://phys.org/news/2019-04-scientists-power...  \n",
       "18  https://arstechnica.com/gadgets/2019/04/intel-...  \n",
       "19  https://physics.aps.org/synopsis-for/10.1103/P...  \n",
       "20  http://www.columbia.edu/~mj340/HSNS4805_12_Jon...  \n",
       "21  https://www.tablix.org/~avian/blog/archives/20...  \n",
       "22        https://www.youtube.com/watch?v=duhDovqHbEs  \n",
       "23  https://www.tablix.org/~avian/blog/archives/20...  \n",
       "24  https://puri.sm/posts/april-progress-update-li...  \n",
       "25  http://exple.tive.org/blarg/2019/04/26/synchro...  \n",
       "26  https://www.nature.com/articles/s41586-019-1119-1  \n",
       "27  https://www.quantamagazine.org/a-new-approach-...  \n",
       "28                             https://cedreo.com/en/  \n",
       "29  https://www.refinery29.com/en-us/six-figure-pa...  "
      ]
     },
     "execution_count": 8,
     "metadata": {},
     "output_type": "execute_result"
    }
   ],
   "source": [
    "py_df"
   ]
  }
 ],
 "metadata": {
  "kernelspec": {
   "display_name": "Python 3",
   "language": "python",
   "name": "python3"
  },
  "language_info": {
   "codemirror_mode": {
    "name": "ipython",
    "version": 3
   },
   "file_extension": ".py",
   "mimetype": "text/x-python",
   "name": "python",
   "nbconvert_exporter": "python",
   "pygments_lexer": "ipython3",
   "version": "3.6.8"
  }
 },
 "nbformat": 4,
 "nbformat_minor": 2
}

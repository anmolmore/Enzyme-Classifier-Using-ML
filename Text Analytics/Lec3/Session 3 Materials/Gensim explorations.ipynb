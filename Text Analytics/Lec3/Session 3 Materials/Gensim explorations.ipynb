{
 "cells": [
  {
   "cell_type": "markdown",
   "metadata": {},
   "source": [
    "## Gensim in Py for topic modeling\n",
    "\n",
    "We've seen latent topic models (LTMs) and their most popular implementation - the latent Dirichlet Allocation (LDA) - in R previously via the 'topicmodels' package. Py implements LDA as well - mostly thru either scikit-learn or gensim. \n",
    "\n",
    "Here's code for the gensim LDA implementation which will walk you through basic text-cleaning type preprocessing, tokenization and DTM building in BOW, some gensim specific data structures like dictionaries etc and finally LDA run and results.\n",
    "\n",
    "Recall our conceptual buildup of LTMs. We viewed them as ways to factorize the DTM. To make gensim's workflow at least somewhat familiar and comparable to what we'd seen earlier, I'll try to output the topic factor score and loadings matrices as panda dataframes."
   ]
  },
  {
   "cell_type": "code",
   "execution_count": 1,
   "metadata": {},
   "outputs": [],
   "source": [
    "# setup chunk. Use pip or anaconda installer for following modules as appropriate\n",
    "\n",
    "import re\n",
    "import numpy as np\n",
    "import pandas as pd\n",
    "from pprint import pprint\n",
    "\n",
    "# Gensim\n",
    "import gensim\n",
    "import gensim.corpora as corpora\n",
    "from gensim.utils import simple_preprocess\n",
    "from gensim.models import CoherenceModel"
   ]
  },
  {
   "cell_type": "markdown",
   "metadata": {},
   "source": [
    "#### Step 1 - Read input text file(s)\n",
    "\n",
    "Below I read in a file containing some 200 amazon.com reviews for samsung s7. Also provided are some other sample corpora to try the gensim code below on."
   ]
  },
  {
   "cell_type": "code",
   "execution_count": 2,
   "metadata": {},
   "outputs": [],
   "source": [
    "# read in file from local disk\n",
    "path1 = 'C:\\\\Users\\\\31172\\\\TABA\\\\Session 3\\\\Session 3 Materials\\\\'\n",
    "filename1 = 'samsung s7 reviews amazon.com.txt' # 'Game of Thrones IMDB reviews.txt'  # 'ISB PGP.txt'\n",
    "corpus0 = open(path1 + filename1).readlines()  # corpus of stacked raw text documents"
   ]
  },
  {
   "cell_type": "markdown",
   "metadata": {},
   "source": [
    "#### Step 2 - Preprocessing text\n",
    "\n",
    "I define a simple func below 'textClean' to strip punctuations, html tags, pure numbers; tokenize and lemmatize to reduce token variety and dimensionality."
   ]
  },
  {
   "cell_type": "code",
   "execution_count": 3,
   "metadata": {},
   "outputs": [],
   "source": [
    "# import gensim.parsing.preprocessing\n",
    "from gensim.parsing.preprocessing import strip_punctuation, strip_tags, strip_numeric\n",
    "from nltk.stem.wordnet import WordNetLemmatizer   \n",
    "from nltk.corpus import stopwords\n",
    "import string  # for the .join() func\n",
    "\n",
    "lemma = WordNetLemmatizer()\n",
    "\n",
    "# NLTK Stop words extended\n",
    "stop_words = stopwords.words('english')\n",
    "stop_words.extend(['from', 'subject', 're', 'edu', 'use'])\n",
    "\n",
    "def textClean(text0):\n",
    "    text1 = [strip_punctuation(doc) for doc in text0]\n",
    "    text1 = [strip_tags(doc) for doc in text1]\n",
    "    text1 = [strip_numeric(doc) for doc in text1]\n",
    "    text1 = [[\" \".join([i for i in doc.lower().split() if i not in stop_words])] for doc in text1]\n",
    "    text2 = [[word for word in ' '.join(doc).split()] for doc in text1]\n",
    "    normalized = [[\" \".join([lemma.lemmatize(word) for word in ' '.join(doc).split()])] for doc in text1]\n",
    "    return normalized\n",
    "\n",
    "corpus1 = textClean(corpus0)  # corpus cleaned of html tags, puncs, lemmas"
   ]
  },
  {
   "cell_type": "markdown",
   "metadata": {},
   "source": [
    "#### Step 3 - DTM building in gensim\n",
    "\n",
    "Below I demonstrate gensim's inbuilt n-gram builder *gensim.models.phrases.Phraser(ngram)*.\n",
    "\n",
    "Note also the use of *corpora.Dictionary(tokenized-corpus)* to build a dictionary object in gensim.\n",
    "\n",
    "Finally, the creation of a term frequency or TF based DTM using list comprehension. Here, *corpus* is the gensim corpus that can now directly be used in LDA running."
   ]
  },
  {
   "cell_type": "code",
   "execution_count": 4,
   "metadata": {},
   "outputs": [
    {
     "name": "stdout",
     "output_type": "stream",
     "text": [
      "[[(0, 3), (1, 1), (2, 2), (3, 1), (4, 1), (5, 1), (6, 1), (7, 1), (8, 4), (9, 1), (10, 1), (11, 1), (12, 1), (13, 5), (14, 1), (15, 6), (16, 1), (17, 2), (18, 1), (19, 1), (20, 2), (21, 1), (22, 1), (23, 1), (24, 2), (25, 1), (26, 1), (27, 1), (28, 1), (29, 1), (30, 1), (31, 1), (32, 1), (33, 1), (34, 1), (35, 1), (36, 1), (37, 1), (38, 1), (39, 1), (40, 1), (41, 3), (42, 4), (43, 1), (44, 2), (45, 1), (46, 1), (47, 2), (48, 1), (49, 1), (50, 2), (51, 1), (52, 1), (53, 1), (54, 1), (55, 1), (56, 1), (57, 1), (58, 1), (59, 1), (60, 3), (61, 1), (62, 1), (63, 1), (64, 1), (65, 1), (66, 1), (67, 5), (68, 1), (69, 2), (70, 1), (71, 1), (72, 1), (73, 3), (74, 1), (75, 1), (76, 4), (77, 2), (78, 2), (79, 1), (80, 1), (81, 1), (82, 2), (83, 1), (84, 2), (85, 1), (86, 1), (87, 1), (88, 1), (89, 4), (90, 1), (91, 2), (92, 3), (93, 1), (94, 1), (95, 1), (96, 1), (97, 1), (98, 1), (99, 1), (100, 1), (101, 1), (102, 5), (103, 5), (104, 1), (105, 1), (106, 1), (107, 1), (108, 1), (109, 2), (110, 1), (111, 1), (112, 2), (113, 1), (114, 1), (115, 1), (116, 1), (117, 1), (118, 1), (119, 1), (120, 1), (121, 1), (122, 2), (123, 1), (124, 1), (125, 1), (126, 1), (127, 3), (128, 1), (129, 1), (130, 1), (131, 2), (132, 2), (133, 4), (134, 2), (135, 2), (136, 3), (137, 1), (138, 1), (139, 1), (140, 1), (141, 2), (142, 2), (143, 1), (144, 3), (145, 1), (146, 1), (147, 1), (148, 1), (149, 1), (150, 1), (151, 4), (152, 1), (153, 2), (154, 1), (155, 2), (156, 5), (157, 1), (158, 2), (159, 2), (160, 1), (161, 1), (162, 1), (163, 1), (164, 1), (165, 1), (166, 3), (167, 1), (168, 1), (169, 2), (170, 2), (171, 1), (172, 1), (173, 1), (174, 1), (175, 1), (176, 3), (177, 1), (178, 14), (179, 2), (180, 1), (181, 1), (182, 2), (183, 1), (184, 1), (185, 1), (186, 1), (187, 1), (188, 1), (189, 1), (190, 1), (191, 1), (192, 1), (193, 1), (194, 2), (195, 2), (196, 1), (197, 2), (198, 2), (199, 2), (200, 1), (201, 1), (202, 1), (203, 3), (204, 1), (205, 1), (206, 10), (207, 1), (208, 1), (209, 1), (210, 7), (211, 1), (212, 1), (213, 1), (214, 1), (215, 1), (216, 1), (217, 2), (218, 1), (219, 1), (220, 1), (221, 1), (222, 2), (223, 1), (224, 1), (225, 1), (226, 1), (227, 1), (228, 1), (229, 1), (230, 1), (231, 1), (232, 2), (233, 1), (234, 1), (235, 1), (236, 2), (237, 3), (238, 3), (239, 1), (240, 1), (241, 1), (242, 2), (243, 1), (244, 1), (245, 1), (246, 1), (247, 1), (248, 1), (249, 1), (250, 1), (251, 1), (252, 2), (253, 1), (254, 1), (255, 1), (256, 5), (257, 1), (258, 1), (259, 1), (260, 2), (261, 1), (262, 1), (263, 4), (264, 1), (265, 1), (266, 5), (267, 1), (268, 1), (269, 2), (270, 1), (271, 1), (272, 1), (273, 1), (274, 1), (275, 1), (276, 2), (277, 1), (278, 1), (279, 1), (280, 1), (281, 1), (282, 1), (283, 1), (284, 2), (285, 2)]]\n"
     ]
    }
   ],
   "source": [
    "## DTM building etc via gensim\n",
    "corpus2 = [[word for word in ' '.join(doc).split()] for doc in corpus1]  # word_tokenize first\n",
    "\n",
    "# Building the bigram and trigram models\n",
    "bigram = gensim.models.Phrases(corpus2, min_count=5, threshold=100) # higher threshold fewer phrases.\n",
    "trigram = gensim.models.Phrases(bigram[corpus2], threshold=100)  \n",
    "\n",
    "# Faster way to get a sentence clubbed as a trigram/bigram\n",
    "bigram_mod = gensim.models.phrases.Phraser(bigram)\n",
    "trigram_mod = gensim.models.phrases.Phraser(trigram)\n",
    "\n",
    "# print(trigram_mod[bigram_mod[corpus2[0]]])  # See trigram example\n",
    "\n",
    "id2word = corpora.Dictionary(corpus2)  # Create Dictionary\n",
    "corpus = [id2word.doc2bow(text) for text in corpus2]  # Building gensim corpus. TF DTM creation.\n",
    "print(corpus[:1])  # View one doc in abstract form"
   ]
  },
  {
   "cell_type": "code",
   "execution_count": 5,
   "metadata": {},
   "outputs": [
    {
     "data": {
      "text/plain": [
       "['app',\n",
       " 'apps',\n",
       " 'device',\n",
       " 'galaxy',\n",
       " 'get',\n",
       " 'nexus',\n",
       " 'phone',\n",
       " 'samsung',\n",
       " 'screen',\n",
       " 'u',\n",
       " 'version']"
      ]
     },
     "execution_count": 5,
     "metadata": {},
     "output_type": "execute_result"
    }
   ],
   "source": [
    "# Human readable format of corpus (term-frequency)\n",
    "a0 = [[(id2word[id], freq) for id, freq in cp] for cp in corpus[:1]]\n",
    "[x for (x, y) in a0[0] if y >4]"
   ]
  },
  {
   "cell_type": "markdown",
   "metadata": {},
   "source": [
    "#### Step 4 - Running the LDA in gensim\n",
    "\n",
    "Note use of *gensim.models.ldamodel.LdaModel()* to yield a LDAmodel object which we will further mine to get the topic factor matrices and other quantities of interest."
   ]
  },
  {
   "cell_type": "code",
   "execution_count": 6,
   "metadata": {},
   "outputs": [],
   "source": [
    "# Build LDA model for (say) K=4 topics\n",
    "lda_model = gensim.models.ldamodel.LdaModel(corpus=corpus,\n",
    "                                           id2word=id2word,\n",
    "                                           num_topics=4, \n",
    "                                           random_state=100,\n",
    "                                           update_every=1,\n",
    "                                           chunksize=100,\n",
    "                                           passes=10,\n",
    "                                           alpha='auto',\n",
    "                                           per_word_topics=True)"
   ]
  },
  {
   "cell_type": "markdown",
   "metadata": {},
   "source": [
    "#### Step 5 - Obtain Factor Matrices\n",
    "\n",
    "In parallel with what we'd done in R, we obtain from the gensim model object two factor matrices *beta* - which maps tokens to topics, and *gamma* - which maps docs to topics, as panda dataframes that can be exported to csv or R for further processing if required.\n",
    "\n",
    "In keeping with good programming practice, I'm coding general funcs that can be called externally (e.g., from github) and used as required."
   ]
  },
  {
   "cell_type": "code",
   "execution_count": 7,
   "metadata": {},
   "outputs": [
    {
     "data": {
      "text/html": [
       "<div>\n",
       "<style scoped>\n",
       "    .dataframe tbody tr th:only-of-type {\n",
       "        vertical-align: middle;\n",
       "    }\n",
       "\n",
       "    .dataframe tbody tr th {\n",
       "        vertical-align: top;\n",
       "    }\n",
       "\n",
       "    .dataframe thead th {\n",
       "        text-align: right;\n",
       "    }\n",
       "</style>\n",
       "<table border=\"1\" class=\"dataframe\">\n",
       "  <thead>\n",
       "    <tr style=\"text-align: right;\">\n",
       "      <th></th>\n",
       "      <th>able</th>\n",
       "      <th>accessory</th>\n",
       "      <th>actual</th>\n",
       "      <th>actually</th>\n",
       "      <th>adapter</th>\n",
       "      <th>added</th>\n",
       "      <th>adjustment</th>\n",
       "      <th>ago</th>\n",
       "    </tr>\n",
       "  </thead>\n",
       "  <tbody>\n",
       "    <tr>\n",
       "      <th>topic01</th>\n",
       "      <td>0.000601</td>\n",
       "      <td>0.000540</td>\n",
       "      <td>0.000046</td>\n",
       "      <td>0.001053</td>\n",
       "      <td>0.001760</td>\n",
       "      <td>0.000268</td>\n",
       "      <td>0.000047</td>\n",
       "      <td>0.000045</td>\n",
       "    </tr>\n",
       "    <tr>\n",
       "      <th>topic02</th>\n",
       "      <td>0.000626</td>\n",
       "      <td>0.000066</td>\n",
       "      <td>0.000634</td>\n",
       "      <td>0.000957</td>\n",
       "      <td>0.000119</td>\n",
       "      <td>0.000075</td>\n",
       "      <td>0.000260</td>\n",
       "      <td>0.000448</td>\n",
       "    </tr>\n",
       "    <tr>\n",
       "      <th>topic03</th>\n",
       "      <td>0.002680</td>\n",
       "      <td>0.000059</td>\n",
       "      <td>0.000442</td>\n",
       "      <td>0.001553</td>\n",
       "      <td>0.000057</td>\n",
       "      <td>0.000745</td>\n",
       "      <td>0.000055</td>\n",
       "      <td>0.001196</td>\n",
       "    </tr>\n",
       "    <tr>\n",
       "      <th>topic04</th>\n",
       "      <td>0.001255</td>\n",
       "      <td>0.000092</td>\n",
       "      <td>0.000393</td>\n",
       "      <td>0.000247</td>\n",
       "      <td>0.001941</td>\n",
       "      <td>0.000092</td>\n",
       "      <td>0.000092</td>\n",
       "      <td>0.000708</td>\n",
       "    </tr>\n",
       "  </tbody>\n",
       "</table>\n",
       "</div>"
      ],
      "text/plain": [
       "             able  accessory    actual  actually   adapter     added  \\\n",
       "topic01  0.000601   0.000540  0.000046  0.001053  0.001760  0.000268   \n",
       "topic02  0.000626   0.000066  0.000634  0.000957  0.000119  0.000075   \n",
       "topic03  0.002680   0.000059  0.000442  0.001553  0.000057  0.000745   \n",
       "topic04  0.001255   0.000092  0.000393  0.000247  0.001941  0.000092   \n",
       "\n",
       "         adjustment       ago  \n",
       "topic01    0.000047  0.000045  \n",
       "topic02    0.000260  0.000448  \n",
       "topic03    0.000055  0.001196  \n",
       "topic04    0.000092  0.000708  "
      ]
     },
     "execution_count": 7,
     "metadata": {},
     "output_type": "execute_result"
    }
   ],
   "source": [
    "## def func for beta_df\n",
    "import pandas as pd\n",
    "\n",
    "## obtain the factor matrices - beta\n",
    "def build_beta_df(lda_model=lda_model, id2word=id2word):\n",
    "    beta = lda_model.get_topics()  # shape (num_topics, vocabulary_size).\n",
    "    beta_df = pd.DataFrame(data=beta)\n",
    "\n",
    "    # convert colnames in beta_df 2 tokens\n",
    "    token2col = list(id2word.token2id)\n",
    "    beta_df.columns = token2col\n",
    "    # beta_df.loc[0,:].sum()  # checking if rows sum to 1\n",
    "\n",
    "    # convert rownames too, eh? Using format(), .shape[] and range()\n",
    "    rowNames=['topic' + format(x+1, '02d') for x in range(beta_df.shape[0])]\n",
    "    rowNames_series = pd.Series(rowNames)\n",
    "    beta_df.rename(index=rowNames_series, inplace=True)\n",
    "    return(beta_df)\n",
    "\n",
    "# invoke func\n",
    "beta_df = build_beta_df(lda_model=lda_model, id2word=id2word)\n",
    "beta_df.iloc[:8, :8]"
   ]
  },
  {
   "cell_type": "code",
   "execution_count": 8,
   "metadata": {},
   "outputs": [
    {
     "data": {
      "text/html": [
       "<div>\n",
       "<style scoped>\n",
       "    .dataframe tbody tr th:only-of-type {\n",
       "        vertical-align: middle;\n",
       "    }\n",
       "\n",
       "    .dataframe tbody tr th {\n",
       "        vertical-align: top;\n",
       "    }\n",
       "\n",
       "    .dataframe thead th {\n",
       "        text-align: right;\n",
       "    }\n",
       "</style>\n",
       "<table border=\"1\" class=\"dataframe\">\n",
       "  <thead>\n",
       "    <tr style=\"text-align: right;\">\n",
       "      <th></th>\n",
       "      <th>topic01</th>\n",
       "      <th>topic02</th>\n",
       "      <th>topic03</th>\n",
       "      <th>topic04</th>\n",
       "    </tr>\n",
       "  </thead>\n",
       "  <tbody>\n",
       "    <tr>\n",
       "      <th>0</th>\n",
       "      <td>0.364816</td>\n",
       "      <td>0.479753</td>\n",
       "      <td>0.102905</td>\n",
       "      <td>0.052526</td>\n",
       "    </tr>\n",
       "    <tr>\n",
       "      <th>1</th>\n",
       "      <td>0.000000</td>\n",
       "      <td>0.000000</td>\n",
       "      <td>0.936671</td>\n",
       "      <td>0.062365</td>\n",
       "    </tr>\n",
       "    <tr>\n",
       "      <th>2</th>\n",
       "      <td>0.000000</td>\n",
       "      <td>0.000000</td>\n",
       "      <td>0.990882</td>\n",
       "      <td>0.000000</td>\n",
       "    </tr>\n",
       "    <tr>\n",
       "      <th>3</th>\n",
       "      <td>0.000000</td>\n",
       "      <td>0.965092</td>\n",
       "      <td>0.000000</td>\n",
       "      <td>0.034276</td>\n",
       "    </tr>\n",
       "    <tr>\n",
       "      <th>4</th>\n",
       "      <td>0.000000</td>\n",
       "      <td>0.000000</td>\n",
       "      <td>0.997250</td>\n",
       "      <td>0.000000</td>\n",
       "    </tr>\n",
       "    <tr>\n",
       "      <th>5</th>\n",
       "      <td>0.895379</td>\n",
       "      <td>0.000000</td>\n",
       "      <td>0.000000</td>\n",
       "      <td>0.094786</td>\n",
       "    </tr>\n",
       "    <tr>\n",
       "      <th>6</th>\n",
       "      <td>0.000000</td>\n",
       "      <td>0.000000</td>\n",
       "      <td>0.992738</td>\n",
       "      <td>0.000000</td>\n",
       "    </tr>\n",
       "    <tr>\n",
       "      <th>7</th>\n",
       "      <td>0.954646</td>\n",
       "      <td>0.033843</td>\n",
       "      <td>0.000000</td>\n",
       "      <td>0.010439</td>\n",
       "    </tr>\n",
       "  </tbody>\n",
       "</table>\n",
       "</div>"
      ],
      "text/plain": [
       "    topic01   topic02   topic03   topic04\n",
       "0  0.364816  0.479753  0.102905  0.052526\n",
       "1  0.000000  0.000000  0.936671  0.062365\n",
       "2  0.000000  0.000000  0.990882  0.000000\n",
       "3  0.000000  0.965092  0.000000  0.034276\n",
       "4  0.000000  0.000000  0.997250  0.000000\n",
       "5  0.895379  0.000000  0.000000  0.094786\n",
       "6  0.000000  0.000000  0.992738  0.000000\n",
       "7  0.954646  0.033843  0.000000  0.010439"
      ]
     },
     "execution_count": 8,
     "metadata": {},
     "output_type": "execute_result"
    }
   ],
   "source": [
    "# func to get gamma matrix by looping using list.comp\n",
    "def build_gamma_df(lda_model, corpus0):\n",
    "    gamma_doc = []  # empty list 2 populate with gamma colms\n",
    "    num_topics = lda_model.get_topics().shape[0]\n",
    "    \n",
    "    for doc in range(len(corpus0)):\n",
    "        doc1 = corpus0[doc].split()\n",
    "        bow_doc = id2word.doc2bow(doc1)\n",
    "        gamma_doc0 = [0]*num_topics  # define list of zeroes num_topics long\n",
    "        gamma_doc1 = lda_model.get_document_topics(bow_doc)\n",
    "        gamma_doc2_x = [x for (x,y) in gamma_doc1]#; gamma_doc2_x\n",
    "        gamma_doc2_y = [y for (x,y) in gamma_doc1]#; gamma_doc2_y\n",
    "        for i in range(len(gamma_doc1)):\n",
    "            x = gamma_doc2_x[i]\n",
    "            y = gamma_doc2_y[i]\n",
    "            gamma_doc0[x] = y  # wasn't geting this in list comprehension somehow \n",
    "        gamma_doc.append(gamma_doc0)\n",
    "        \n",
    "    gamma_df = pd.DataFrame(data=gamma_doc)  # shape=num_docs x num_topics\n",
    "    topicNames=['topic' + format(x+1, '02d') for x in range(num_topics)]\n",
    "    topicNames_series = pd.Series(topicNames)\n",
    "    gamma_df.rename(columns=topicNames_series, inplace=True)\n",
    "    return(gamma_df)\n",
    "\n",
    "# now apply func\n",
    "gamma_df = build_gamma_df(lda_model=lda_model, corpus0=corpus0)\n",
    "gamma_df.iloc[:8, :]"
   ]
  },
  {
   "cell_type": "code",
   "execution_count": 9,
   "metadata": {},
   "outputs": [
    {
     "data": {
      "text/plain": [
       "0.9908822774887085"
      ]
     },
     "execution_count": 9,
     "metadata": {},
     "output_type": "execute_result"
    }
   ],
   "source": [
    "gamma_df.iloc[2,:].sum()  # check if the topic propns are ok"
   ]
  },
  {
   "cell_type": "markdown",
   "metadata": {},
   "source": [
    "#### Step 6 - Compute Fit metrics for topic models\n",
    "\n",
    "I'm using two fit metrics that gensim readily outputs - theperplexity score 9we'd seen this in R as well) - lower the better; and the topic coherence score (higher the better).\n",
    "\n",
    "After that, the plan is to detect the optimal number of topics to use by varying the num_topics, checking fit each time and finally, choosing the best fitting topic model. Recall that thi sis no different from what we did in choosing the optimal num_clusters in k-means, for example. \n",
    "\n",
    "See below."
   ]
  },
  {
   "cell_type": "code",
   "execution_count": 10,
   "metadata": {},
   "outputs": [
    {
     "name": "stdout",
     "output_type": "stream",
     "text": [
      "\n",
      "Perplexity:  -7.211047838723843\n"
     ]
    },
    {
     "name": "stderr",
     "output_type": "stream",
     "text": [
      "C:\\Users\\31172\\AppData\\Local\\Continuum\\anaconda3\\lib\\site-packages\\gensim\\topic_coherence\\direct_confirmation_measure.py:202: RuntimeWarning: invalid value encountered in true_divide\n",
      "  numerator = (co_occur_count / num_docs) + EPSILON\n",
      "C:\\Users\\31172\\AppData\\Local\\Continuum\\anaconda3\\lib\\site-packages\\gensim\\topic_coherence\\direct_confirmation_measure.py:203: RuntimeWarning: invalid value encountered in true_divide\n",
      "  denominator = (w_prime_count / num_docs) * (w_star_count / num_docs)\n",
      "C:\\Users\\31172\\AppData\\Local\\Continuum\\anaconda3\\lib\\site-packages\\gensim\\topic_coherence\\direct_confirmation_measure.py:198: RuntimeWarning: invalid value encountered in true_divide\n",
      "  co_doc_prob = co_occur_count / num_docs\n"
     ]
    },
    {
     "name": "stdout",
     "output_type": "stream",
     "text": [
      "\n",
      "Coherence Score:  nan\n"
     ]
    }
   ],
   "source": [
    "# Compute Perplexity\n",
    "print('\\nPerplexity: ', lda_model.log_perplexity(corpus))  # model fit metric. lower the better.\n",
    "\n",
    "# Compute Coherence Score\n",
    "coherence_model_lda = CoherenceModel(model=lda_model, texts=corpus, dictionary=id2word, coherence='c_v')\n",
    "coherence_lda = coherence_model_lda.get_coherence()\n",
    "print('\\nCoherence Score: ', coherence_lda)"
   ]
  },
  {
   "cell_type": "markdown",
   "metadata": {},
   "source": [
    "Plan now is to put in place code for CV and calc of optimal # of topics.\n",
    "Before that, perhaps some options to view and interpret key topics, key tokens in topics etc?"
   ]
  },
  {
   "cell_type": "code",
   "execution_count": 11,
   "metadata": {},
   "outputs": [],
   "source": [
    "## compute coherence score (akin to LMD?)\n",
    "def compute_coherence_values(dictionary, corpus, texts, limit, start, step):\n",
    "    \"\"\"\n",
    "    Compute c_v coherence for various number of topics\n",
    "\n",
    "    Parameters:\n",
    "    ----------\n",
    "    dictionary : Gensim dictionary\n",
    "    corpus : Gensim corpus\n",
    "    texts : List of input texts\n",
    "    limit : Max num of topics\n",
    "\n",
    "    Returns:\n",
    "    -------\n",
    "    model_list : List of LDA topic models\n",
    "    coherence_values : Coherence values corresponding to the LDA model with respective number of topics\n",
    "    \"\"\"\n",
    "    coherence_values = []\n",
    "    model_list = []\n",
    "    num_topics1 = [i for i in range(start, limit, step)]\n",
    "    for num_topics in num_topics1:\n",
    "        model = gensim.models.ldamodel.LdaModel(corpus=corpus, id2word=id2word, num_topics=num_topics, random_state=100,\n",
    "                                           update_every=1, chunksize=100, passes=10, alpha='auto', per_word_topics=True)\n",
    "        model_list.append(model)\n",
    "        coherencemodel = CoherenceModel(model=model, texts=texts, dictionary=dictionary, coherence='c_v')\n",
    "        coherence_values.append(coherencemodel.get_coherence())\n",
    "\n",
    "    return model_list, coherence_values  # note, list of 2 objs returned\n"
   ]
  },
  {
   "cell_type": "code",
   "execution_count": 12,
   "metadata": {},
   "outputs": [
    {
     "name": "stdout",
     "output_type": "stream",
     "text": [
      "[0.2951337657143259, 0.26170992409542826, 0.2965565651924838, 0.24627828311687336, 0.326060132440278, 0.3108777659957854, 0.3175909773442758, 0.3777023338697616, 0.40816834234042976, 0.38294354906548694, 0.36026077145974744, 0.3390160606719558, 0.3425865080763697, 0.39248692247211536, 0.39435631363939894, 0.37025994600826495, 0.44375202057181606]\n"
     ]
    }
   ],
   "source": [
    "# Can take a long time to run.\n",
    "start1=2\n",
    "limit1=19\n",
    "step1=1\n",
    "\n",
    "model_list, coherence_values = compute_coherence_values(dictionary=id2word, corpus=corpus, \n",
    "                                                        texts=corpus2, start=start1, limit=limit1, step=step1)\n",
    "\n",
    "print(coherence_values)"
   ]
  },
  {
   "cell_type": "code",
   "execution_count": 13,
   "metadata": {},
   "outputs": [
    {
     "name": "stdout",
     "output_type": "stream",
     "text": [
      "18\n"
     ]
    }
   ],
   "source": [
    "# obtain optimal topic number\n",
    "coher = list(enumerate(coherence_values))  # create an index for each list elem\n",
    "index_max = [x for (x,y) in coher if y==max(coherence_values)]  # obtain index num corres to max coherence value\n",
    "Optimal_numTopics = int(str(index_max[0]))+2  # convert that list elem into integer (int()) via string (str())\n",
    "print(Optimal_numTopics)    "
   ]
  },
  {
   "cell_type": "code",
   "execution_count": 14,
   "metadata": {},
   "outputs": [
    {
     "data": {
      "image/png": "[encoded data removed]",
      "text/plain": [
       "<Figure size 432x288 with 1 Axes>"
      ]
     },
     "metadata": {
      "needs_background": "light"
     },
     "output_type": "display_data"
    }
   ],
   "source": [
    "## Plot the change in coherence score with num_topics\n",
    "import matplotlib.pyplot as plt\n",
    "%matplotlib inline\n",
    "\n",
    "start1=2\n",
    "limit1=19\n",
    "step1=1\n",
    "# Show graph\n",
    "x = range(start1, limit1, step1)\n",
    "plt.plot(x, coherence_values)\n",
    "plt.xlabel(\"Num Topics\")\n",
    "plt.ylabel(\"Coherence score\")\n",
    "plt.legend((\"coherence_values\"), loc='best')\n",
    "plt.axvline(x=Optimal_numTopics, color='r')\n",
    "plt.show()"
   ]
  },
  {
   "cell_type": "code",
   "execution_count": 15,
   "metadata": {},
   "outputs": [
    {
     "data": {
      "text/plain": [
       "17"
      ]
     },
     "execution_count": 15,
     "metadata": {},
     "output_type": "execute_result"
    }
   ],
   "source": [
    "len(model_list)"
   ]
  },
  {
   "cell_type": "code",
   "execution_count": 16,
   "metadata": {},
   "outputs": [
    {
     "name": "stdout",
     "output_type": "stream",
     "text": [
      "[-7.149284891082368, -7.1894304678786725, -7.2110476296150265, -7.23517506634476, -7.236846788389046, -7.248423428472603, -7.246192591368489, -7.204558658056754, -7.215230784704687, -7.238622010118542, -7.39075047641037, -7.477889231630469, -7.609850246948844, -7.667317091370378, -7.77034266312692, -7.742336159055632, -7.7948486569325395]\n"
     ]
    }
   ],
   "source": [
    "## compute perplexity fit\n",
    "def compute_perplexity_values(model_list, corpus, start, limit, step):\n",
    "    \"\"\"\n",
    "    Compute c_v perplexity for various number of topics\n",
    "\n",
    "    Parameters:\n",
    "    ----------\n",
    "    model list : LDA models list from coherence calc\n",
    "    corpus : Gensim corpus\n",
    "    start, limit, step\n",
    "    \n",
    "\n",
    "    Returns:\n",
    "    -------\n",
    "    model_list : List of LDA topic models\n",
    "    perplexity_values : Perplexity fit metric for LDA model on a corpus. Lower the better.\n",
    "    \"\"\"\n",
    "    perplexity_values = []\n",
    "    for num_topics in range(start, limit, step):\n",
    "        #model = gensim.models.ldamodel.LdaModel(corpus=corpus, id2word=id2word, num_topics=num_topics, random_state=100,\n",
    "        #                                  update_every=1, chunksize=100, passes=10, alpha='auto', per_word_topics=True)\n",
    "        model_index = num_topics - start\n",
    "        model = model_list[model_index]\n",
    "        perplexity_values.append(model.log_perplexity(corpus))\n",
    "        #model_list.append(model)\n",
    "        \n",
    "\n",
    "    return perplexity_values  # note, list of 2 objs returned\n",
    "\n",
    "# Can take a long time to run.\n",
    "# perplexity_values = compute_perplexity_values(dictionary=id2word, corpus=corpus, start=2, limit=15, step=1)\n",
    "perplexity_values = compute_perplexity_values(model_list, corpus=corpus, start=start1, limit=limit1, step=step1)\n",
    "print(perplexity_values)"
   ]
  },
  {
   "cell_type": "code",
   "execution_count": 17,
   "metadata": {},
   "outputs": [
    {
     "name": "stdout",
     "output_type": "stream",
     "text": [
      "18\n"
     ]
    }
   ],
   "source": [
    "# compute optimal num_topics using perplexity based fit\n",
    "perpl = list(enumerate(perplexity_values))  # create an index for each list elem\n",
    "index_min = [x for (x,y) in perpl if y==min(perplexity_values)]  # obtain index num corres to max coherence value\n",
    "optimal_numTopics = int(str(index_min[0]))+2  # convert that list elem into integer (int()) via string (str())\n",
    "print(optimal_numTopics)  "
   ]
  },
  {
   "cell_type": "code",
   "execution_count": 18,
   "metadata": {},
   "outputs": [
    {
     "data": {
      "image/png": "[encoded data removed]",
      "text/plain": [
       "<Figure size 432x288 with 1 Axes>"
      ]
     },
     "metadata": {
      "needs_background": "light"
     },
     "output_type": "display_data"
    }
   ],
   "source": [
    "# graph the perplexity fit and see\n",
    "import matplotlib.pyplot as plt\n",
    "%matplotlib inline\n",
    "\n",
    "# Show graph\n",
    "x = range(start1, limit1, step1)\n",
    "plt.plot(x, perplexity_values)\n",
    "plt.xlabel(\"Num Topics\")\n",
    "plt.ylabel(\"Perplexity score\")\n",
    "plt.legend((\"perplexity_values\"), loc='best')\n",
    "plt.axvline(x=optimal_numTopics, color='r')\n",
    "plt.show()"
   ]
  },
  {
   "cell_type": "code",
   "execution_count": 21,
   "metadata": {},
   "outputs": [
    {
     "name": "stdout",
     "output_type": "stream",
     "text": [
      "[(0,\n",
      "  '0.034*\"phone\" + 0.017*\"even\" + 0.009*\"item\" + 0.009*\"water\" + 0.008*\"work\" '\n",
      "  '+ 0.008*\"video\" + 0.008*\"much\" + 0.008*\"pretty\" + 0.008*\"day\" + '\n",
      "  '0.008*\"fast\"'),\n",
      " (1,\n",
      "  '0.013*\"product\" + 0.010*\"march\" + 0.007*\"stripe\" + 0.006*\"unlocked\" + '\n",
      "  '0.006*\"sensitive\" + 0.005*\"money\" + 0.004*\"small\" + 0.004*\"excelent\" + '\n",
      "  '0.003*\"b\" + 0.003*\"sold\"'),\n",
      " (2,\n",
      "  '0.009*\"shatter\" + 0.009*\"get\" + 0.008*\"great\" + 0.007*\"protect\" + '\n",
      "  '0.007*\"terrible\" + 0.007*\"connection\" + 0.007*\"working\" + 0.007*\"buyer\" + '\n",
      "  '0.006*\"screen\" + 0.006*\"drop\"'),\n",
      " (3,\n",
      "  '0.000*\"phone\" + 0.000*\"edge\" + 0.000*\"one\" + 0.000*\"galaxy\" + 0.000*\"it’s\" '\n",
      "  '+ 0.000*\"samsung\" + 0.000*\"time\" + 0.000*\"like\" + 0.000*\"screen\" + '\n",
      "  '0.000*\"card\"'),\n",
      " (4,\n",
      "  '0.023*\"phone\" + 0.017*\"battery\" + 0.014*\"case\" + 0.014*\"it’s\" + '\n",
      "  '0.011*\"edge\" + 0.009*\"galaxy\" + 0.008*\"–\" + 0.008*\"good\" + 0.007*\"display\" '\n",
      "  '+ 0.007*\"day\"'),\n",
      " (5,\n",
      "  '0.007*\"received\" + 0.007*\"film\" + 0.007*\"feedback\" + 0.006*\"outlet\" + '\n",
      "  '0.006*\"seal\" + 0.006*\"thief\" + 0.006*\"electrical\" + 0.006*\"intl\" + '\n",
      "  '0.006*\"th\" + 0.005*\"please\"'),\n",
      " (6,\n",
      "  '0.031*\"camera\" + 0.015*\"image\" + 0.014*\"samsung\" + 0.013*\"phone\" + '\n",
      "  '0.011*\"side\" + 0.011*\"edge\" + 0.011*\"detail\" + 0.010*\"lg\" + 0.010*\"light\" + '\n",
      "  '0.008*\"good\"'),\n",
      " (7,\n",
      "  '0.016*\"cracked\" + 0.013*\"drop\" + 0.012*\"exactly\" + 0.012*\"need\" + '\n",
      "  '0.012*\"dropped\" + 0.011*\"foot\" + 0.008*\"slippery\" + 0.008*\"country\" + '\n",
      "  '0.008*\"send\" + 0.006*\"money\"'),\n",
      " (8,\n",
      "  '0.058*\"phone\" + 0.018*\"samsung\" + 0.015*\"screen\" + 0.015*\"edge\" + '\n",
      "  '0.010*\"one\" + 0.010*\"great\" + 0.009*\"version\" + 0.008*\"get\" + '\n",
      "  '0.008*\"galaxy\" + 0.007*\"work\"'),\n",
      " (9,\n",
      "  '0.007*\"grey\" + 0.006*\"bar\" + 0.004*\"across\" + 0.004*\"common\" + '\n",
      "  '0.004*\"resistance\" + 0.003*\"recently\" + 0.001*\"worked\" + 0.000*\"water\" + '\n",
      "  '0.000*\"started\" + 0.000*\"different\"'),\n",
      " (10,\n",
      "  '0.044*\"phone\" + 0.012*\"g\" + 0.011*\"battery\" + 0.010*\"charge\" + 0.009*\"day\" '\n",
      "  '+ 0.007*\"good\" + 0.006*\"one\" + 0.006*\"say\" + 0.006*\"using\" + 0.005*\"would\"'),\n",
      " (11,\n",
      "  '0.022*\"x\" + 0.022*\"phone\" + 0.018*\"gb\" + 0.013*\"year\" + 0.013*\"mp\" + '\n",
      "  '0.011*\"core\" + 0.011*\"w\" + 0.010*\"kg\" + 0.010*\"ram\" + 0.009*\"quad\"')]\n"
     ]
    }
   ],
   "source": [
    "# seems optimal num_topics is 10\n",
    "optimal_model = model_list[10]\n",
    "model_topics = optimal_model.show_topics(formatted=False)\n",
    "pprint(optimal_model.print_topics(num_words=10))"
   ]
  },
  {
   "cell_type": "markdown",
   "metadata": {},
   "source": [
    "#### Step 7 - explore topics obtained from optimal model\n",
    "\n",
    "In what follows below, I try to build a dataframe of docs with their dominant topic, its main keywords and some text from the document."
   ]
  },
  {
   "cell_type": "code",
   "execution_count": 22,
   "metadata": {},
   "outputs": [
    {
     "data": {
      "text/plain": [
       "[[(0, 8, 0.9561975598335266)],\n",
       " [(1, 8, 0.7906836271286011)],\n",
       " [(2, 2, 0.9278461337089539)],\n",
       " [(3, 11, 0.9938839673995972)],\n",
       " [(4, 8, 0.979606032371521)],\n",
       " [(5, 8, 0.486307293176651)],\n",
       " [(6, 8, 0.6893921494483948)]]"
      ]
     },
     "execution_count": 22,
     "metadata": {},
     "output_type": "execute_result"
    }
   ],
   "source": [
    "# Get main topic in each document\n",
    "gamma_df = build_gamma_df(lda_model=optimal_model, corpus0=corpus0)\n",
    "#gamma_df.iloc[:8,:8]\n",
    "\n",
    "row0 = gamma_df.values.tolist()\n",
    "row=[]\n",
    "for i in range(len(row0)):\n",
    "    row1 = list(enumerate(row0[i]))\n",
    "    row1_y = [y for (x,y) in row1]\n",
    "    max_propn = sorted(row1_y, reverse=True)[0]\n",
    "    row2 = [(i, x, y) for (x, y) in row1 if y==max_propn]\n",
    "    row.append(row2)\n",
    "\n",
    "row[0:7]"
   ]
  },
  {
   "cell_type": "code",
   "execution_count": 23,
   "metadata": {},
   "outputs": [
    {
     "data": {
      "text/html": [
       "<div>\n",
       "<style scoped>\n",
       "    .dataframe tbody tr th:only-of-type {\n",
       "        vertical-align: middle;\n",
       "    }\n",
       "\n",
       "    .dataframe tbody tr th {\n",
       "        vertical-align: top;\n",
       "    }\n",
       "\n",
       "    .dataframe thead th {\n",
       "        text-align: right;\n",
       "    }\n",
       "</style>\n",
       "<table border=\"1\" class=\"dataframe\">\n",
       "  <thead>\n",
       "    <tr style=\"text-align: right;\">\n",
       "      <th></th>\n",
       "      <th>Doc_num</th>\n",
       "      <th>Dominant_Topic</th>\n",
       "      <th>Perc_Contribution</th>\n",
       "      <th>Topic_Keywords</th>\n",
       "    </tr>\n",
       "  </thead>\n",
       "  <tbody>\n",
       "    <tr>\n",
       "      <th>0</th>\n",
       "      <td>0.0</td>\n",
       "      <td>8.0</td>\n",
       "      <td>0.9562</td>\n",
       "      <td>phone, samsung, screen, edge, one, great, vers...</td>\n",
       "    </tr>\n",
       "    <tr>\n",
       "      <th>1</th>\n",
       "      <td>1.0</td>\n",
       "      <td>8.0</td>\n",
       "      <td>0.7907</td>\n",
       "      <td>phone, samsung, screen, edge, one, great, vers...</td>\n",
       "    </tr>\n",
       "    <tr>\n",
       "      <th>2</th>\n",
       "      <td>2.0</td>\n",
       "      <td>2.0</td>\n",
       "      <td>0.9278</td>\n",
       "      <td>shatter, get, great, protect, terrible, connec...</td>\n",
       "    </tr>\n",
       "    <tr>\n",
       "      <th>3</th>\n",
       "      <td>3.0</td>\n",
       "      <td>11.0</td>\n",
       "      <td>0.9939</td>\n",
       "      <td>x, phone, gb, year, mp, core, w, kg, ram, quad</td>\n",
       "    </tr>\n",
       "    <tr>\n",
       "      <th>4</th>\n",
       "      <td>4.0</td>\n",
       "      <td>8.0</td>\n",
       "      <td>0.9796</td>\n",
       "      <td>phone, samsung, screen, edge, one, great, vers...</td>\n",
       "    </tr>\n",
       "    <tr>\n",
       "      <th>5</th>\n",
       "      <td>5.0</td>\n",
       "      <td>8.0</td>\n",
       "      <td>0.4863</td>\n",
       "      <td>phone, samsung, screen, edge, one, great, vers...</td>\n",
       "    </tr>\n",
       "    <tr>\n",
       "      <th>6</th>\n",
       "      <td>6.0</td>\n",
       "      <td>8.0</td>\n",
       "      <td>0.6894</td>\n",
       "      <td>phone, samsung, screen, edge, one, great, vers...</td>\n",
       "    </tr>\n",
       "    <tr>\n",
       "      <th>7</th>\n",
       "      <td>7.0</td>\n",
       "      <td>10.0</td>\n",
       "      <td>0.5897</td>\n",
       "      <td>phone, g, battery, charge, day, good, one, say...</td>\n",
       "    </tr>\n",
       "  </tbody>\n",
       "</table>\n",
       "</div>"
      ],
      "text/plain": [
       "   Doc_num  Dominant_Topic  Perc_Contribution  \\\n",
       "0      0.0             8.0             0.9562   \n",
       "1      1.0             8.0             0.7907   \n",
       "2      2.0             2.0             0.9278   \n",
       "3      3.0            11.0             0.9939   \n",
       "4      4.0             8.0             0.9796   \n",
       "5      5.0             8.0             0.4863   \n",
       "6      6.0             8.0             0.6894   \n",
       "7      7.0            10.0             0.5897   \n",
       "\n",
       "                                      Topic_Keywords  \n",
       "0  phone, samsung, screen, edge, one, great, vers...  \n",
       "1  phone, samsung, screen, edge, one, great, vers...  \n",
       "2  shatter, get, great, protect, terrible, connec...  \n",
       "3     x, phone, gb, year, mp, core, w, kg, ram, quad  \n",
       "4  phone, samsung, screen, edge, one, great, vers...  \n",
       "5  phone, samsung, screen, edge, one, great, vers...  \n",
       "6  phone, samsung, screen, edge, one, great, vers...  \n",
       "7  phone, g, battery, charge, day, good, one, say...  "
      ]
     },
     "execution_count": 23,
     "metadata": {},
     "output_type": "execute_result"
    }
   ],
   "source": [
    "sent_topics_df = pd.DataFrame()\n",
    "for row1 in row:\n",
    "    for (doc_num, topic_num, prop_topic) in row1:\n",
    "        wp = optimal_model.show_topic(topic_num)\n",
    "        topic_keywords = \", \".join([word for word, prop in wp])\n",
    "        sent_topics_df = sent_topics_df.append(pd.Series([int(doc_num), int(topic_num), \n",
    "                                                          round(prop_topic,4), \n",
    "                                                          topic_keywords]), \n",
    "                                                       ignore_index=True)\n",
    "    \n",
    "sent_topics_df.columns = ['Doc_num', 'Dominant_Topic', 'Perc_Contribution', 'Topic_Keywords']    \n",
    "sent_topics_df.iloc[:8, :]"
   ]
  },
  {
   "cell_type": "code",
   "execution_count": 24,
   "metadata": {},
   "outputs": [
    {
     "data": {
      "text/html": [
       "<div>\n",
       "<style scoped>\n",
       "    .dataframe tbody tr th:only-of-type {\n",
       "        vertical-align: middle;\n",
       "    }\n",
       "\n",
       "    .dataframe tbody tr th {\n",
       "        vertical-align: top;\n",
       "    }\n",
       "\n",
       "    .dataframe thead th {\n",
       "        text-align: right;\n",
       "    }\n",
       "</style>\n",
       "<table border=\"1\" class=\"dataframe\">\n",
       "  <thead>\n",
       "    <tr style=\"text-align: right;\">\n",
       "      <th></th>\n",
       "      <th>Doc_num</th>\n",
       "      <th>Dominant_Topic</th>\n",
       "      <th>Perc_Contribution</th>\n",
       "      <th>Topic_Keywords</th>\n",
       "      <th>contents</th>\n",
       "    </tr>\n",
       "  </thead>\n",
       "  <tbody>\n",
       "    <tr>\n",
       "      <th>0</th>\n",
       "      <td>0.0</td>\n",
       "      <td>8.0</td>\n",
       "      <td>0.9562</td>\n",
       "      <td>phone, samsung, screen, edge, one, great, vers...</td>\n",
       "      <td>I bought the Samsung Galaxy S7 Edge G935F in B...</td>\n",
       "    </tr>\n",
       "    <tr>\n",
       "      <th>1</th>\n",
       "      <td>1.0</td>\n",
       "      <td>8.0</td>\n",
       "      <td>0.7907</td>\n",
       "      <td>phone, samsung, screen, edge, one, great, vers...</td>\n",
       "      <td>The Galaxy S7 Edge is a nice phone. There is n...</td>\n",
       "    </tr>\n",
       "    <tr>\n",
       "      <th>2</th>\n",
       "      <td>2.0</td>\n",
       "      <td>2.0</td>\n",
       "      <td>0.9278</td>\n",
       "      <td>shatter, get, great, protect, terrible, connec...</td>\n",
       "      <td>Buyers Be AwareThis shipper has send me 'FAKE\"...</td>\n",
       "    </tr>\n",
       "    <tr>\n",
       "      <th>3</th>\n",
       "      <td>3.0</td>\n",
       "      <td>11.0</td>\n",
       "      <td>0.9939</td>\n",
       "      <td>x, phone, gb, year, mp, core, w, kg, ram, quad</td>\n",
       "      <td>Oh, another year 2016. Another set of phones f...</td>\n",
       "    </tr>\n",
       "    <tr>\n",
       "      <th>4</th>\n",
       "      <td>4.0</td>\n",
       "      <td>8.0</td>\n",
       "      <td>0.9796</td>\n",
       "      <td>phone, samsung, screen, edge, one, great, vers...</td>\n",
       "      <td>The phone worked great. I bought it from Amazo...</td>\n",
       "    </tr>\n",
       "    <tr>\n",
       "      <th>5</th>\n",
       "      <td>5.0</td>\n",
       "      <td>8.0</td>\n",
       "      <td>0.4863</td>\n",
       "      <td>phone, samsung, screen, edge, one, great, vers...</td>\n",
       "      <td>I ordered this phone which was branded as an o...</td>\n",
       "    </tr>\n",
       "    <tr>\n",
       "      <th>6</th>\n",
       "      <td>6.0</td>\n",
       "      <td>8.0</td>\n",
       "      <td>0.6894</td>\n",
       "      <td>phone, samsung, screen, edge, one, great, vers...</td>\n",
       "      <td>Received the phone today. I carefully take a l...</td>\n",
       "    </tr>\n",
       "    <tr>\n",
       "      <th>7</th>\n",
       "      <td>7.0</td>\n",
       "      <td>10.0</td>\n",
       "      <td>0.5897</td>\n",
       "      <td>phone, g, battery, charge, day, good, one, say...</td>\n",
       "      <td>After being a loyal Samsung/Galaxy customer fo...</td>\n",
       "    </tr>\n",
       "  </tbody>\n",
       "</table>\n",
       "</div>"
      ],
      "text/plain": [
       "   Doc_num  Dominant_Topic  Perc_Contribution  \\\n",
       "0      0.0             8.0             0.9562   \n",
       "1      1.0             8.0             0.7907   \n",
       "2      2.0             2.0             0.9278   \n",
       "3      3.0            11.0             0.9939   \n",
       "4      4.0             8.0             0.9796   \n",
       "5      5.0             8.0             0.4863   \n",
       "6      6.0             8.0             0.6894   \n",
       "7      7.0            10.0             0.5897   \n",
       "\n",
       "                                      Topic_Keywords  \\\n",
       "0  phone, samsung, screen, edge, one, great, vers...   \n",
       "1  phone, samsung, screen, edge, one, great, vers...   \n",
       "2  shatter, get, great, protect, terrible, connec...   \n",
       "3     x, phone, gb, year, mp, core, w, kg, ram, quad   \n",
       "4  phone, samsung, screen, edge, one, great, vers...   \n",
       "5  phone, samsung, screen, edge, one, great, vers...   \n",
       "6  phone, samsung, screen, edge, one, great, vers...   \n",
       "7  phone, g, battery, charge, day, good, one, say...   \n",
       "\n",
       "                                            contents  \n",
       "0  I bought the Samsung Galaxy S7 Edge G935F in B...  \n",
       "1  The Galaxy S7 Edge is a nice phone. There is n...  \n",
       "2  Buyers Be AwareThis shipper has send me 'FAKE\"...  \n",
       "3  Oh, another year 2016. Another set of phones f...  \n",
       "4  The phone worked great. I bought it from Amazo...  \n",
       "5  I ordered this phone which was branded as an o...  \n",
       "6  Received the phone today. I carefully take a l...  \n",
       "7  After being a loyal Samsung/Galaxy customer fo...  "
      ]
     },
     "execution_count": 24,
     "metadata": {},
     "output_type": "execute_result"
    }
   ],
   "source": [
    "# Add original text to the end of the output\n",
    "contents = pd.Series(corpus0)\n",
    "sent_topics_df = pd.concat([sent_topics_df, contents], axis=1)\n",
    "#return(sent_topics_df)\n",
    "sent_topics_df.columns = ['Doc_num', 'Dominant_Topic', 'Perc_Contribution', 'Topic_Keywords', 'contents']\n",
    "sent_topics_df.iloc[:8,:]"
   ]
  },
  {
   "cell_type": "markdown",
   "metadata": {},
   "source": [
    "Well, that's it for now from my side.\n",
    "\n",
    "gensim has some impressive capabilities - like: \n",
    "1. working with streaming data \n",
    "2. the ability to save and load models on demand\n",
    "3. the ability to extrapolate to new or previously unseen docs \n",
    "4. distributed processing capabilities\n",
    "5. works well with the rest of the py ecosystem. E.g., can do nlp in spacy and LTM in gensim all in one workflow\n",
    "6. etc.\n",
    "\n",
    "Sudhir"
   ]
  }
 ],
 "metadata": {
  "kernelspec": {
   "display_name": "Python 3",
   "language": "python",
   "name": "python3"
  },
  "language_info": {
   "codemirror_mode": {
    "name": "ipython",
    "version": 3
   },
   "file_extension": ".py",
   "mimetype": "text/x-python",
   "name": "python",
   "nbconvert_exporter": "python",
   "pygments_lexer": "ipython3",
   "version": "3.6.8"
  }
 },
 "nbformat": 4,
 "nbformat_minor": 2
}

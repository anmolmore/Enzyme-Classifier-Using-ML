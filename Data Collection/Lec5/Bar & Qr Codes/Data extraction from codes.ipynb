{
 "cells": [
  {
   "cell_type": "markdown",
   "metadata": {},
   "source": [
    "A barcode is a visual, machine-readable representation of data. The data in general carries information about the object that carries the barcode. Traditional barcodes systematically represent data by varying the widths and spacings of parallel lines, and may be referred to as linear or one-dimensional (1D). Later, two-dimensional (2D) variants were developed, using rectangles, dots, hexagons and other geometric patterns, called matrix codes or 2D barcodes. Initially, barcodes were only scanned by special optical scanners called barcode readers but now with the development of application software, devices that could read images, such as smartphones are also being utilized to read them. "
   ]
  },
  {
   "cell_type": "markdown",
   "metadata": {},
   "source": [
    "QR is a matrix barcode. The data is stored in horizontal and vertical black square grid patterns on a white background. In general, QR codes often contain data for a locator, identifier, or tracker that points to a website or application. A QR code uses four standardized encoding modes (numeric, alphanumeric, byte/binary, and kanji) to store data efficiently; extensions may also be used."
   ]
  },
  {
   "cell_type": "markdown",
   "metadata": {},
   "source": [
    "In this markdown, we shall read and generate QR and bar codes using Python's pyzbar and [qrtools]('https://www.geeksforgeeks.org/reading-generating-qr-codes-python-using-qrtools/')"
   ]
  },
  {
   "cell_type": "markdown",
   "metadata": {},
   "source": [
    "## Reading QR and BAR codes"
   ]
  },
  {
   "cell_type": "markdown",
   "metadata": {},
   "source": [
    "### Installation"
   ]
  },
  {
   "cell_type": "code",
   "execution_count": 6,
   "metadata": {},
   "outputs": [],
   "source": [
    "#https://www.pyimagesearch.com/2018/05/21/an-opencv-barcode-and-qr-code-scanner-with-zbar/\n",
    "#brew install zbar\n",
    "#!pip install pyzbar\n",
    "\n",
    "import sys"
   ]
  },
  {
   "cell_type": "markdown",
   "metadata": {},
   "source": [
    "### Import required libraries"
   ]
  },
  {
   "cell_type": "code",
   "execution_count": 7,
   "metadata": {},
   "outputs": [],
   "source": [
    "from __future__ import print_function\n",
    "import pyzbar.pyzbar as pyzbar\n",
    "import numpy as np\n",
    "import cv2"
   ]
  },
  {
   "cell_type": "markdown",
   "metadata": {},
   "source": [
    "### Create necessary functions"
   ]
  },
  {
   "cell_type": "markdown",
   "metadata": {},
   "source": [
    "We would create 2 functions in this markdown,similar to the tutorial outlined [here]('https://www.pyimagesearch.com/2018/05/21/an-opencv-barcode-and-qr-code-scanner-with-zbar') \n",
    "    1. Decode the code\n",
    "    2. Display the code"
   ]
  },
  {
   "cell_type": "code",
   "execution_count": 8,
   "metadata": {},
   "outputs": [],
   "source": [
    "def decode(im) : \n",
    "  # Find barcodes and QR codes\n",
    "  decodedObjects = pyzbar.decode(im)\n",
    " \n",
    "  # Print results\n",
    "  for obj in decodedObjects:\n",
    "    print('Type : ', obj.type)\n",
    "    print('Data : ', obj.data,'\\n')\n",
    "     \n",
    "  return decodedObjects"
   ]
  },
  {
   "cell_type": "code",
   "execution_count": 9,
   "metadata": {},
   "outputs": [],
   "source": [
    "# Display barcode and QR code location  \n",
    "def display(im, decodedObjects):\n",
    " \n",
    "  # Loop over all decoded objects\n",
    "  for decodedObject in decodedObjects: \n",
    "    points = decodedObject.polygon\n",
    " \n",
    "    # If the points do not form a quad, find convex hull\n",
    "    if len(points) > 4 : \n",
    "      hull = cv2.convexHull(np.array([point for point in points], dtype=np.float32))\n",
    "      hull = list(map(tuple, np.squeeze(hull)))\n",
    "    else : \n",
    "      hull = points;\n",
    "     \n",
    "    # Number of points in the convex hull\n",
    "    n = len(hull)\n",
    " \n",
    "    # Draw the convext hull\n",
    "    for j in range(0,n):\n",
    "      cv2.line(im, hull[j], hull[ (j+1) % n], (255,0,0), 3)\n",
    " \n",
    "  # Display results \n",
    "  cv2.imshow(\"Results\", im)\n",
    "  # Press any key to close the window\n",
    "  cv2.waitKey(0)\n",
    "  cv2.destroyAllWindows()"
   ]
  },
  {
   "cell_type": "markdown",
   "metadata": {},
   "source": [
    "### Invoke the functions"
   ]
  },
  {
   "cell_type": "code",
   "execution_count": null,
   "metadata": {},
   "outputs": [
    {
     "name": "stdout",
     "output_type": "stream",
     "text": [
      "Type :  QRCODE\n",
      "Data :  b'http://www.qrstuff.com' \n",
      "\n"
     ]
    }
   ],
   "source": [
    "# Read image\n",
    "im = cv2.imread('qr1.png')\n",
    " \n",
    "decodedObjects = decode(im)\n",
    "display(im, decodedObjects)"
   ]
  },
  {
   "cell_type": "markdown",
   "metadata": {},
   "source": [
    "## Writing QR and BAR codes"
   ]
  },
  {
   "cell_type": "markdown",
   "metadata": {},
   "source": [
    "### Installation"
   ]
  },
  {
   "cell_type": "code",
   "execution_count": null,
   "metadata": {},
   "outputs": [],
   "source": [
    "import sys\n",
    "\n",
    "!pip install qrcode\n",
    "!pip install python-barcode"
   ]
  },
  {
   "cell_type": "markdown",
   "metadata": {},
   "source": [
    "### Import required libraries"
   ]
  },
  {
   "cell_type": "code",
   "execution_count": 7,
   "metadata": {
    "collapsed": true
   },
   "outputs": [],
   "source": [
    "import qrcode\n",
    "import barcode\n",
    "from barcode import generate\n",
    "from barcode.writer import ImageWriter"
   ]
  },
  {
   "cell_type": "markdown",
   "metadata": {},
   "source": [
    "### Invoke the functions"
   ]
  },
  {
   "cell_type": "markdown",
   "metadata": {},
   "source": [
    "#### Generate QR code"
   ]
  },
  {
   "cell_type": "code",
   "execution_count": 8,
   "metadata": {
    "collapsed": true
   },
   "outputs": [],
   "source": [
    "img = qrcode.make(data = 'Business Analytics')"
   ]
  },
  {
   "cell_type": "code",
   "execution_count": 9,
   "metadata": {
    "scrolled": true
   },
   "outputs": [
    {
     "data": {
      "image/png": "[encoded data removed]",
      "text/plain": [
       "<qrcode.image.pil.PilImage at 0x662f908>"
      ]
     },
     "execution_count": 9,
     "metadata": {},
     "output_type": "execute_result"
    }
   ],
   "source": [
    "img"
   ]
  },
  {
   "cell_type": "markdown",
   "metadata": {},
   "source": [
    "#### Generate BAR code"
   ]
  },
  {
   "cell_type": "markdown",
   "metadata": {},
   "source": [
    "There are multiple ways to generate barcode using 'barcode' library based on the output format desired as detailed in [here]('https://pypi.org/project/pyBarcode/'). Here we would generate the output in png and svg(default) format."
   ]
  },
  {
   "cell_type": "code",
   "execution_count": 10,
   "metadata": {
    "collapsed": true
   },
   "outputs": [],
   "source": [
    "name = generate('EAN13', '123748597546546', output='barcode_1')"
   ]
  },
  {
   "cell_type": "code",
   "execution_count": 11,
   "metadata": {},
   "outputs": [
    {
     "data": {
      "text/plain": [
       "u'barcode_1.svg'"
      ]
     },
     "execution_count": 11,
     "metadata": {},
     "output_type": "execute_result"
    }
   ],
   "source": [
    "name"
   ]
  },
  {
   "cell_type": "code",
   "execution_count": 12,
   "metadata": {
    "collapsed": true
   },
   "outputs": [],
   "source": [
    "EAN = barcode.get_barcode_class('ean13')\n",
    "ean = EAN(u'5901234123457', writer=ImageWriter())\n",
    "fullname = ean.save('barcode_2')"
   ]
  },
  {
   "cell_type": "code",
   "execution_count": 13,
   "metadata": {},
   "outputs": [
    {
     "data": {
      "text/plain": [
       "u'barcode_2.png'"
      ]
     },
     "execution_count": 13,
     "metadata": {},
     "output_type": "execute_result"
    }
   ],
   "source": [
    "fullname"
   ]
  },
  {
   "cell_type": "code",
   "execution_count": null,
   "metadata": {
    "collapsed": true
   },
   "outputs": [],
   "source": []
  }
 ],
 "metadata": {
  "kernelspec": {
   "display_name": "Python 3",
   "language": "python",
   "name": "python3"
  },
  "language_info": {
   "codemirror_mode": {
    "name": "ipython",
    "version": 3
   },
   "file_extension": ".py",
   "mimetype": "text/x-python",
   "name": "python",
   "nbconvert_exporter": "python",
   "pygments_lexer": "ipython3",
   "version": "3.6.8"
  }
 },
 "nbformat": 4,
 "nbformat_minor": 2
}

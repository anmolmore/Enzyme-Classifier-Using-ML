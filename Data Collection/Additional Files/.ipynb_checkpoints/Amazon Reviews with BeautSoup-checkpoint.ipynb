{
 "cells": [
  {
   "cell_type": "markdown",
   "metadata": {},
   "source": [
    "Folks,\n",
    "\n",
    "Recall we'd used rvest to scrape consumer reviews from structured amazon webpages.\n",
    "\n",
    "Here, I present a py equivalent for the same using 'Beautiful Soup' module. \n",
    "\n",
    "Plus, in addition to SelectorGadget, we'll also see the use of 'Inspect' elements to fine-tune our scraping code.\n",
    "\n",
    "### Setup Chunk"
   ]
  },
  {
   "cell_type": "code",
   "execution_count": 1,
   "metadata": {},
   "outputs": [],
   "source": [
    "## using py to scrape amazon reviews\n",
    "import requests\n",
    "from bs4 import BeautifulSoup\n",
    "import pandas as pd"
   ]
  },
  {
   "cell_type": "markdown",
   "metadata": {},
   "source": [
    "In rvest we used the following code to read-in the html doc into the system. \n",
    "> url1 = \"https://www.amazon.in/OnePlus-Mirror-Black-128GB-Storage/product-reviews/B07DJD1Y3Q/ref=cm_cr_getr_d_paging_btm_next_2?showViewpoints=1&sortBy=recent&pageNumber=5\"\n",
    "page1 = url1 %>% read_html()\n",
    "\n",
    "We'll do something similar in py. The equivalent for 'page1' in R is 'page1.content' in Py. See below. "
   ]
  },
  {
   "cell_type": "code",
   "execution_count": 2,
   "metadata": {},
   "outputs": [
    {
     "data": {
      "text/plain": [
       "<Response [200]>"
      ]
     },
     "execution_count": 2,
     "metadata": {},
     "output_type": "execute_result"
    }
   ],
   "source": [
    "url1 = \"https://www.amazon.in/OnePlus-Mirror-Black-128GB-Storage/product-reviews/B07DJD1Y3Q/?showViewpoints=1&sortBy=recent&pageNumber=5\"\n",
    "page1 = requests.get(url1)  # page-source d/l-ed\n",
    "type(page1)   # requests.models.Response\n",
    "page1   # a response code starting with 2 == 'success'. '4' r '5' means error in getting the page."
   ]
  },
  {
   "cell_type": "code",
   "execution_count": 3,
   "metadata": {},
   "outputs": [
    {
     "data": {
      "text/plain": [
       "bs4.BeautifulSoup"
      ]
     },
     "execution_count": 3,
     "metadata": {},
     "output_type": "execute_result"
    }
   ],
   "source": [
    "# now create BSoup object\n",
    "soup1 = BeautifulSoup(page1.content, \"lxml\")  # using 'lxml' parser on page1.content\n",
    "type(soup1)   # a parsedTree object"
   ]
  },
  {
   "cell_type": "markdown",
   "metadata": {},
   "source": [
    "Corresponding to the rvest code quoted below:\n",
    "> nodes1 = page1 %>% html_nodes('#cm_cr-review_list .a-icon-alt')\n",
    "rating = nodes1 %>% html_text()\n",
    "tail(rating)\n",
    "\n",
    "we do the following in Py, using '.get_text()' as analogous to html_text()"
   ]
  },
  {
   "cell_type": "code",
   "execution_count": 4,
   "metadata": {},
   "outputs": [
    {
     "data": {
      "text/plain": [
       "['4.5 out of 5 stars',\n",
       " '5.0 out of 5 stars',\n",
       " '2.0 out of 5 stars',\n",
       " '4.0 out of 5 stars',\n",
       " '1.0 out of 5 stars']"
      ]
     },
     "execution_count": 4,
     "metadata": {},
     "output_type": "execute_result"
    }
   ],
   "source": [
    "rating_nodes1 = soup1.find_all(class_ = 'a-icon-alt')  \n",
    "rating_nodes1[0].get_text()  # see effect on 1 element\n",
    "\n",
    "# loop over all elems in list comprehension\n",
    "ratings = [item.get_text() for item in rating_nodes1]\n",
    "ratings[0:5]"
   ]
  },
  {
   "cell_type": "markdown",
   "metadata": {},
   "source": [
    "Above was too broad a match. So will use the hierarchical (parent) nodesets we saw in class.\n",
    "> ### understanding the parent nodeset\n",
    "parent_node = soup1.select('#cm_cr-review_list')"
   ]
  },
  {
   "cell_type": "code",
   "execution_count": 5,
   "metadata": {},
   "outputs": [
    {
     "data": {
      "text/plain": [
       "['4.0 out of 5 stars',\n",
       " '1.0 out of 5 stars',\n",
       " '1.0 out of 5 stars',\n",
       " '2.0 out of 5 stars',\n",
       " '5.0 out of 5 stars']"
      ]
     },
     "execution_count": 5,
     "metadata": {},
     "output_type": "execute_result"
    }
   ],
   "source": [
    "# but above was too broad a search (18 matches!). Narrowing using parent nodeset\n",
    "nodes2 = soup1.select('#cm_cr-review_list .a-icon-alt')\n",
    "nodes2[0].get_text()\n",
    "ratings = [item.get_text() for item in nodes2]\n",
    "ratings[0:5]"
   ]
  },
  {
   "cell_type": "markdown",
   "metadata": {},
   "source": [
    "Below I will follow what we did in class and proceed. \n",
    "\n",
    "One new point to highlight is the use of 'Inspect' html element (found by right clicking on the element we want to inspect). The chrome developer window that opens often throws light on what unique elements in the 'class=' identifiers we can use to narrow down our searches and matches."
   ]
  },
  {
   "cell_type": "code",
   "execution_count": 6,
   "metadata": {},
   "outputs": [
    {
     "data": {
      "text/plain": [
       "['Good mobile, connectivity is good, does not hang.',\n",
       " 'Camera is not upto the mark I have S9+ its camera is far better than 1+ 6t only good is its user interface i.e oxygen OS... who said it is flagship killer... Ghanta!!!!',\n",
       " 'Battery drain very fast',\n",
       " 'Nowdays, My mobile gets heated up regularly while playing games within 30mins only. And also my mobile hangs once or twice a day. Request you to kindly rectify these issues as I always love to be a part of \"ONEPLUS COMMUNITY\".Thank you.',\n",
       " 'Best mobile,superb camera, fastest']"
      ]
     },
     "execution_count": 6,
     "metadata": {},
     "output_type": "execute_result"
    }
   ],
   "source": [
    "# now do the same for review title, author, text etc.\n",
    "title = [item.get_text() for item in soup1.select('#cm_cr-review_list .a-text-bold span')]\n",
    "title[0:5]\n",
    "\n",
    "# right-click inspect on review title and see what in 'class=' is unique to review titles\n",
    "title_link = [item.get('href') for item in soup1.select('#cm_cr-review_list .review-title-content')]\n",
    "title_link[0:5]\n",
    "\n",
    "author = [item.get_text() for item in soup1.select('#cm_cr-review_list .a-profile-name')]\n",
    "author[0:5]\n",
    "\n",
    "date = [item.get_text() for item in soup1.select('#cm_cr-review_list .review-date')]\n",
    "date[0:5]\n",
    "\n",
    "text = [item.get_text() for item in soup1.select('#cm_cr-review_list .review-text-content span')]\n",
    "text[0:5]"
   ]
  },
  {
   "cell_type": "markdown",
   "metadata": {},
   "source": [
    "Finally, time to bind results into a DF and close."
   ]
  },
  {
   "cell_type": "code",
   "execution_count": 7,
   "metadata": {},
   "outputs": [
    {
     "data": {
      "text/html": [
       "<div>\n",
       "<style scoped>\n",
       "    .dataframe tbody tr th:only-of-type {\n",
       "        vertical-align: middle;\n",
       "    }\n",
       "\n",
       "    .dataframe tbody tr th {\n",
       "        vertical-align: top;\n",
       "    }\n",
       "\n",
       "    .dataframe thead th {\n",
       "        text-align: right;\n",
       "    }\n",
       "</style>\n",
       "<table border=\"1\" class=\"dataframe\">\n",
       "  <thead>\n",
       "    <tr style=\"text-align: right;\">\n",
       "      <th></th>\n",
       "      <th>title</th>\n",
       "      <th>links</th>\n",
       "      <th>author</th>\n",
       "      <th>reviewDate</th>\n",
       "      <th>reviewText</th>\n",
       "    </tr>\n",
       "  </thead>\n",
       "  <tbody>\n",
       "    <tr>\n",
       "      <th>0</th>\n",
       "      <td>Good</td>\n",
       "      <td>/gp/customer-reviews/R2TLDIS6D7QMQ0?ASIN=B07DJ...</td>\n",
       "      <td>Dr.Akhil Kumar Srivastava</td>\n",
       "      <td>25 April 2019</td>\n",
       "      <td>Good mobile, connectivity is good, does not hang.</td>\n",
       "    </tr>\n",
       "    <tr>\n",
       "      <th>1</th>\n",
       "      <td>Not Upto The Mark..</td>\n",
       "      <td>/gp/customer-reviews/R1PYA11US51HU9?ASIN=B07DJ...</td>\n",
       "      <td>Rishabh</td>\n",
       "      <td>25 April 2019</td>\n",
       "      <td>Camera is not upto the mark I have S9+ its cam...</td>\n",
       "    </tr>\n",
       "    <tr>\n",
       "      <th>2</th>\n",
       "      <td>Battery problem</td>\n",
       "      <td>/gp/customer-reviews/R2GIH5UEWOD1PI?ASIN=B07DJ...</td>\n",
       "      <td>r c meena</td>\n",
       "      <td>25 April 2019</td>\n",
       "      <td>Battery drain very fast</td>\n",
       "    </tr>\n",
       "    <tr>\n",
       "      <th>3</th>\n",
       "      <td>My mobile gets heated up &amp; Hangs.</td>\n",
       "      <td>/gp/customer-reviews/R1FNQXMZY625H0?ASIN=B07DJ...</td>\n",
       "      <td>Rahul Biradar</td>\n",
       "      <td>25 April 2019</td>\n",
       "      <td>Nowdays, My mobile gets heated up regularly wh...</td>\n",
       "    </tr>\n",
       "  </tbody>\n",
       "</table>\n",
       "</div>"
      ],
      "text/plain": [
       "                               title  \\\n",
       "0                               Good   \n",
       "1                Not Upto The Mark..   \n",
       "2                    Battery problem   \n",
       "3  My mobile gets heated up & Hangs.   \n",
       "\n",
       "                                               links  \\\n",
       "0  /gp/customer-reviews/R2TLDIS6D7QMQ0?ASIN=B07DJ...   \n",
       "1  /gp/customer-reviews/R1PYA11US51HU9?ASIN=B07DJ...   \n",
       "2  /gp/customer-reviews/R2GIH5UEWOD1PI?ASIN=B07DJ...   \n",
       "3  /gp/customer-reviews/R1FNQXMZY625H0?ASIN=B07DJ...   \n",
       "\n",
       "                      author     reviewDate  \\\n",
       "0  Dr.Akhil Kumar Srivastava  25 April 2019   \n",
       "1                    Rishabh  25 April 2019   \n",
       "2                  r c meena  25 April 2019   \n",
       "3              Rahul Biradar  25 April 2019   \n",
       "\n",
       "                                          reviewText  \n",
       "0  Good mobile, connectivity is good, does not hang.  \n",
       "1  Camera is not upto the mark I have S9+ its cam...  \n",
       "2                            Battery drain very fast  \n",
       "3  Nowdays, My mobile gets heated up regularly wh...  "
      ]
     },
     "execution_count": 7,
     "metadata": {},
     "output_type": "execute_result"
    }
   ],
   "source": [
    "## OK. Now bind into DF\n",
    "py_df = pd.DataFrame(\n",
    "{'title': title,\n",
    "'links': title_link,\n",
    "'author' : author,\n",
    "'reviewDate' : date,\n",
    "'reviewText': text})\n",
    "py_df[:4]"
   ]
  },
  {
   "cell_type": "markdown",
   "metadata": {},
   "source": [
    "Signing off here.\n",
    "\n",
    "Sudhir"
   ]
  }
 ],
 "metadata": {
  "kernelspec": {
   "display_name": "Python 3",
   "language": "python",
   "name": "python3"
  },
  "language_info": {
   "codemirror_mode": {
    "name": "ipython",
    "version": 3
   },
   "file_extension": ".py",
   "mimetype": "text/x-python",
   "name": "python",
   "nbconvert_exporter": "python",
   "pygments_lexer": "ipython3",
   "version": "3.6.8"
  }
 },
 "nbformat": 4,
 "nbformat_minor": 2
}

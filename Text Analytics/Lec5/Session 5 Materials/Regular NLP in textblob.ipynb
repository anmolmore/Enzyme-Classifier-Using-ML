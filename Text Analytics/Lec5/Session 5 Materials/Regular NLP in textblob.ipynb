{
 "cells": [
  {
   "cell_type": "markdown",
   "metadata": {},
   "source": [
    "## NLP with Textblob \n",
    "\n",
    "We've seen NLP functionality in NLTK and UDPipe. Turns out textblob also offers quite a bit of that. Do remember that textblob uses NLTK as back-end for some NLP and interfaces with google translate for some others. \n",
    "\n",
    "Let's quickly see some samples.\n",
    "\n",
    "Plan is to demo [1] basic tokenization, [2] POSTagging, [3] noun_phrase extraction, [4] sentiment-an and [5] spelling corrections with textblob."
   ]
  },
  {
   "cell_type": "code",
   "execution_count": 1,
   "metadata": {},
   "outputs": [
    {
     "name": "stdout",
     "output_type": "stream",
     "text": [
      " Python is a high-level, general-purpose programming language.\n",
      "I am intentionally putting some spelling mistakes in here like choclate, vanila, pyton, gogle, etc..\n",
      "Textblob is so cool, easy andamazing to use, isn't it?! \n",
      "Feel freee to addd anyting else here. \n"
     ]
    }
   ],
   "source": [
    "from textblob import TextBlob\n",
    "\n",
    "test1 = TextBlob(\"\"\" Python is a high-level, general-purpose programming language.\n",
    "I am intentionally putting some spelling mistakes in here like choclate, vanila, pyton, gogle, etc..\n",
    "Textblob is so cool, easy andamazing to use, isn't it?! \n",
    "Feel freee to addd anyting else here. \"\"\")\n",
    "\n",
    "print(test1)"
   ]
  },
  {
   "cell_type": "code",
   "execution_count": 2,
   "metadata": {},
   "outputs": [
    {
     "name": "stdout",
     "output_type": "stream",
     "text": [
      "['Python', 'is', 'a', 'high-level', 'general-purpose']\n",
      "\n",
      "\n",
      "[Sentence(\" Python is a high-level, general-purpose programming language.\"), Sentence(\"I am intentionally putting some spelling mistakes in here like choclate, vanila, pyton, gogle, etc..\n",
      "Textblob is so cool, easy andamazing to use, isn't it?!\"), Sentence(\"Feel freee to addd anyting else here.\")]\n"
     ]
    }
   ],
   "source": [
    "# Basic tokenization\n",
    "words1 = test1.words\n",
    "print(words1[:5])\n",
    "print(\"\\n\")\n",
    "print(test1.sentences)"
   ]
  },
  {
   "cell_type": "code",
   "execution_count": 3,
   "metadata": {},
   "outputs": [
    {
     "name": "stdout",
     "output_type": "stream",
     "text": [
      "[('Python', 'NNP'), ('is', 'VBZ'), ('a', 'DT'), ('high-level', 'JJ'), ('general-purpose', 'JJ'), ('programming', 'NN'), ('language', 'NN'), ('I', 'PRP'), ('am', 'VBP')]\n"
     ]
    }
   ],
   "source": [
    "# POSTagging with the blob\n",
    "tags_list = test1.tags  # penn treebank style tags\n",
    "print(tags_list[:9])"
   ]
  },
  {
   "cell_type": "code",
   "execution_count": 4,
   "metadata": {},
   "outputs": [
    {
     "name": "stdout",
     "output_type": "stream",
     "text": [
      "['python', 'textblob', 'feel']\n"
     ]
    }
   ],
   "source": [
    "# noun phrase extraction\n",
    "np_list = test1.noun_phrases  \n",
    "print(np_list)"
   ]
  },
  {
   "cell_type": "code",
   "execution_count": 5,
   "metadata": {},
   "outputs": [
    {
     "name": "stdout",
     "output_type": "stream",
     "text": [
      "Sentiment(polarity=0.44583333333333336, subjectivity=0.7416666666666667)\n",
      "\n",
      "\n",
      "Sentiment(polarity=0.0, subjectivity=0.0)\n",
      "Sentiment(polarity=0.44583333333333336, subjectivity=0.7416666666666667)\n",
      "Sentiment(polarity=0.0, subjectivity=0.0)\n"
     ]
    }
   ],
   "source": [
    "# Sentiment-an with textblob\n",
    "## yields polarity between (-1,1) & a measure of subjectivity (0 to 1)\n",
    "test1.sentiment  # subjectivity = 0 means fully objective sentence.\n",
    "print(test1.sentiment)\n",
    "print(\"\\n\")\n",
    "for sentence in test1.sentences:\n",
    "    print(sentence.sentiment)\n"
   ]
  },
  {
   "cell_type": "code",
   "execution_count": 6,
   "metadata": {},
   "outputs": [
    {
     "name": "stdout",
     "output_type": "stream",
     "text": [
      " Python is a high-level, general-purpose programming language.\n",
      "I am intentionally putting some spelling mistakes in here like chocolate, manila, platon, gone, etc..\n",
      "Textblob is so cool, easy andamazing to use, isn't it?! \n",
      "Feel free to added anything else here. \n"
     ]
    }
   ],
   "source": [
    "# Spelling Correction\n",
    "## Use the correct() method to attempt spelling correction.\n",
    "spell_checked = test1.correct()\n",
    "print(spell_checked)"
   ]
  },
  {
   "cell_type": "code",
   "execution_count": 7,
   "metadata": {},
   "outputs": [
    {
     "name": "stdout",
     "output_type": "stream",
     "text": [
      "[('Python', 0.0)]\n",
      "[('is', 1.0)]\n",
      "[('a', 1.0)]\n",
      "[('high-level', 0.0)]\n",
      "[('general-purpose', 0.0)]\n",
      "[('programming', 1.0)]\n",
      "[('language', 1.0)]\n",
      "[('I', 1.0)]\n",
      "[('am', 1.0)]\n",
      "[('intentionally', 1.0)]\n",
      "[('putting', 1.0)]\n",
      "[('some', 1.0)]\n",
      "[('spelling', 1.0)]\n",
      "[('mistakes', 1.0)]\n",
      "[('in', 1.0)]\n",
      "[('here', 1.0)]\n",
      "[('like', 1.0)]\n",
      "[('chocolate', 1.0)]\n",
      "[('manila', 0.6), ('vanilla', 0.4)]\n",
      "[('platon', 0.45614035087719296), ('ton', 0.12280701754385964), ('patron', 0.07017543859649122), ('pon', 0.05263157894736842), ('lyon', 0.05263157894736842), ('anton', 0.05263157894736842), ('seton', 0.03508771929824561), ('piston', 0.03508771929824561), ('alton', 0.03508771929824561), ('yon', 0.017543859649122806), ('eton', 0.017543859649122806), ('dayton', 0.017543859649122806), ('byron', 0.017543859649122806), ('baton', 0.017543859649122806)]\n",
      "[('gone', 0.3187250996015936), ('gold', 0.16600265604249667), ('sole', 0.09296148738379814), ('noble', 0.06374501992031872), ('role', 0.055776892430278883), ('angle', 0.05046480743691899), ('goose', 0.04249667994687915), ('goal', 0.03718459495351926), ('pole', 0.029216467463479414), ('hole', 0.02390438247011952), ('mole', 0.0199203187250996), ('iogel', 0.017264276228419653), ('eagle', 0.01195219123505976), ('vogue', 0.009296148738379814), ('gouge', 0.00796812749003984), ('gale', 0.00796812749003984), ('rogue', 0.006640106241699867), ('doyle', 0.006640106241699867), ('gage', 0.005312084993359893), ('vogel', 0.0026560424966799467), ('gorge', 0.0026560424966799467), ('godly', 0.0026560424966799467), ('goals', 0.0026560424966799467), ('bugle', 0.0026560424966799467), ('wogue', 0.0013280212483399733), ('ole', 0.0013280212483399733), ('molle', 0.0013280212483399733), ('gurgle', 0.0013280212483399733), ('guile', 0.0013280212483399733), ('golf', 0.0013280212483399733), ('gobble', 0.0013280212483399733), ('gargle', 0.0013280212483399733), ('engle', 0.0013280212483399733), ('dole', 0.0013280212483399733)]\n",
      "[('etc', 1.0)]\n",
      "[('Textblob', 0.0)]\n",
      "[('is', 1.0)]\n",
      "[('so', 1.0)]\n",
      "[('cool', 1.0)]\n",
      "[('easy', 1.0)]\n",
      "[('andamazing', 0.0)]\n",
      "[('to', 1.0)]\n",
      "[('use', 1.0)]\n",
      "[('is', 1.0)]\n",
      "[('not', 0.9942977190876351), ('net', 0.004201680672268907), ('nut', 0.0015006002400960385)]\n",
      "[('it', 1.0)]\n",
      "[('Feel', 0.8846153846153846), ('Heel', 0.11538461538461539)]\n",
      "[('free', 0.9524886877828054), ('freed', 0.03619909502262444), ('frere', 0.004524886877828055), ('freeze', 0.0022624434389140274), ('frees', 0.0022624434389140274), ('freer', 0.0022624434389140274)]\n",
      "[('to', 1.0)]\n",
      "[('added', 0.8922155688622755), ('add', 0.08083832335329341), ('adds', 0.02694610778443114)]\n",
      "[('anything', 1.0)]\n",
      "[('else', 1.0)]\n",
      "[('here', 1.0)]\n"
     ]
    }
   ],
   "source": [
    "# spell checking on 'Word' objects via .spellcheck()\n",
    "from textblob import Word\n",
    "for word1 in test1.words:\n",
    "    print(word1.spellcheck())"
   ]
  },
  {
   "cell_type": "markdown",
   "metadata": {},
   "source": [
    "While most of the other NLP funcs we saw are available elsewhere, the last one - spell checking - I wanted to demo here in particular.\n",
    "\n",
    "I'm yet to reticulate textblob into R but Iintend to getthere soon enough.\n",
    "\n",
    "Well, with that, I'll close this markdown.\n",
    "\n",
    "Ciao\n",
    "Sudhir"
   ]
  }
 ],
 "metadata": {
  "kernelspec": {
   "display_name": "Python 3",
   "language": "python",
   "name": "python3"
  },
  "language_info": {
   "codemirror_mode": {
    "name": "ipython",
    "version": 3
   },
   "file_extension": ".py",
   "mimetype": "text/x-python",
   "name": "python",
   "nbconvert_exporter": "python",
   "pygments_lexer": "ipython3",
   "version": "3.6.8"
  }
 },
 "nbformat": 4,
 "nbformat_minor": 2
}

{
 "cells": [
  {
   "cell_type": "markdown",
   "metadata": {},
   "source": [
    "# Language Detection & Translation in Py"
   ]
  },
  {
   "cell_type": "markdown",
   "metadata": {},
   "source": [
    "Class,\n",
    "\n",
    "So far we've wrestled with various things but all in the English language alone. Next, we head past into the domain of other languages. \n",
    "\n",
    "Aim is to demo the interesting capabilities of __[Py's TextBlob module](http://textblob.readthedocs.io/en/dev/index.html)__ in detecting languages and translating them. Run the following in (preferably) spyder or Jupyter. \n",
    "\n",
    "Install textblob thus from the CMD window:\n",
    "> pip install -U textblob\n",
    "\n",
    "Also install textblob corpora thus:\n",
    "> python -m textblob.download_corpora\n",
    "\n",
    "YOu'll notice that textblob is an amazingly light library for what it purports to do. Reason it its provides an API interface to the Google Translate Backend where the heavy lifting happens.\n",
    "\n",
    "OK, let's start."
   ]
  },
  {
   "cell_type": "code",
   "execution_count": 1,
   "metadata": {},
   "outputs": [],
   "source": [
    "from textblob import TextBlob\n",
    "import time"
   ]
  },
  {
   "cell_type": "markdown",
   "metadata": {},
   "source": [
    "Let's start with a simple enough small example - based on a news report from the recent commonwealth games. See below. P.S. The \"u\" before the text string is for Unicode standard UTF-8."
   ]
  },
  {
   "cell_type": "markdown",
   "metadata": {},
   "source": [
    "### Language Translation  "
   ]
  },
  {
   "cell_type": "code",
   "execution_count": 2,
   "metadata": {},
   "outputs": [
    {
     "name": "stdout",
     "output_type": "stream",
     "text": [
      "\n",
      "\n",
      "My name is Anmol\n"
     ]
    }
   ],
   "source": [
    "eng_blob = TextBlob(u\"My name is Anmol\")\n",
    "type(eng_blob)\n",
    "print(\"\\n\")  # print a new line\n",
    "print(eng_blob)   # print the blob object"
   ]
  },
  {
   "cell_type": "code",
   "execution_count": 3,
   "metadata": {},
   "outputs": [
    {
     "name": "stdout",
     "output_type": "stream",
     "text": [
      "मेरा नाम अनमोल है\n",
      "\n",
      "\n",
      "0.18\n"
     ]
    }
   ],
   "source": [
    "# Hindi to English Translation\n",
    "t0 = time.time()\n",
    "hindi_blob = eng_blob.translate(to='hi')  # \"hi\" is ISO-639-2 code for Hindi. \n",
    "t1 = time.time()\n",
    "time_taken = t1 - t0\n",
    "\n",
    "print(hindi_blob)\n",
    "print(\"\\n\")  # print a new line\n",
    "print(round(time_taken, 2))\n"
   ]
  },
  {
   "cell_type": "markdown",
   "metadata": {},
   "source": [
    "Neat, eh? One function \"translate()\" packs quite a punch. Didn't take a whole lot of time either.\n",
    "\n",
    "If you know Hindi, can you read the transation and get an estimate of how good or bad the translation was?\n",
    "\n",
    "Another way to see this is to translate this back into english and then seeing how well the machine does. See below:"
   ]
  },
  {
   "cell_type": "code",
   "execution_count": 4,
   "metadata": {},
   "outputs": [
    {
     "name": "stdout",
     "output_type": "stream",
     "text": [
      "My name is precious\n",
      "\n",
      "\n",
      "0.08\n"
     ]
    }
   ],
   "source": [
    "# Back to Eng translation\n",
    "t0 = time.time()\n",
    "hin2eng_blob = hindi_blob.translate(to='en')\n",
    "t1 = time.time()\n",
    "time_taken = t1 - t0\n",
    "\n",
    "print(hin2eng_blob)\n",
    "print(\"\\n\")  # print a new line\n",
    "print(round(time_taken, 2))"
   ]
  },
  {
   "cell_type": "markdown",
   "metadata": {},
   "source": [
    "A large number of languages are translate-able now and their __[ISO-639-2 codes are available here.](https://www.loc.gov/standards/iso639-2/php/code_list.php)__\n",
    "\n",
    "Another quick example, translating both 'eng_blob' and 'hindi_blob' to Telugu to see if there are differences..."
   ]
  },
  {
   "cell_type": "code",
   "execution_count": 5,
   "metadata": {},
   "outputs": [
    {
     "name": "stdout",
     "output_type": "stream",
     "text": [
      "నా పేరు అన్మోల్\n",
      "\n",
      "\n",
      "నా పేరు విలువైనది\n",
      "\n",
      "\n",
      "0.64\n"
     ]
    }
   ],
   "source": [
    "# Eng to Telugu translation\n",
    "t0 = time.time()\n",
    "\n",
    "eng2tel_blob = eng_blob.translate(to='te')\n",
    "hin2tel_blob = hindi_blob.translate(to='te')\n",
    "\n",
    "t1 = time.time()\n",
    "time_taken = t1 - t0\n",
    "\n",
    "print(eng2tel_blob)\n",
    "print(\"\\n\")  # print a new line\n",
    "print(hin2tel_blob)\n",
    "print(\"\\n\")  # print a new line\n",
    "\n",
    "print(round(time_taken, 2))"
   ]
  },
  {
   "cell_type": "markdown",
   "metadata": {},
   "source": [
    "### Language Detection "
   ]
  },
  {
   "cell_type": "markdown",
   "metadata": {},
   "source": [
    "We can use \"detect_language()\" method to find the language. See the example below."
   ]
  },
  {
   "cell_type": "code",
   "execution_count": 6,
   "metadata": {},
   "outputs": [
    {
     "data": {
      "text/plain": [
       "'es'"
      ]
     },
     "execution_count": 6,
     "metadata": {},
     "output_type": "execute_result"
    }
   ],
   "source": [
    "unkown_blob = TextBlob(u\"¡Hola! Mi nombre es Ana. Tengo veinticinco años. Vivo en Miami, Florida con mi esposo y dos hijos. Tengo un hijo en kínder y una hija en primer grado. Ambos van a una escuela pública. Mi esposo es mecánico. Los fines de semana, él trabaja en un restaurante lavando platos. El restaurante usualmente tiene más clientes los fines de semana, entonces necesitan gente extra para lavar platos.\")\n",
    "\n",
    "unkown_blob.detect_language()"
   ]
  },
  {
   "cell_type": "markdown",
   "metadata": {},
   "source": [
    "As we can see from above output its spanish (ISO-639-1 Code for Spanish is 'es'). \n",
    "\n",
    "Let's translate this spanish text to english to see what it means. "
   ]
  },
  {
   "cell_type": "code",
   "execution_count": 7,
   "metadata": {},
   "outputs": [
    {
     "data": {
      "text/plain": [
       "TextBlob(\"Hello! My name is Ana. I'm twenty-five years old. I live in Miami, Florida with my husband and two children. I have a son in kindergarten and a daughter in first grade. Both go to a public school. My husband is a mechanic. On weekends, he works in a restaurant washing dishes. The restaurant usually has more customers on weekends, so they need extra people to wash dishes.\")"
      ]
     },
     "execution_count": 7,
     "metadata": {},
     "output_type": "execute_result"
    }
   ],
   "source": [
    "unkown_blob.translate(to='en')"
   ]
  },
  {
   "cell_type": "markdown",
   "metadata": {},
   "source": [
    "Can we do this at scale? If instead of a paragraph or two, what if my corpus featured pages upon pages of text? Should work just as well, I surmise.  Why not check and see, eh?\n",
    "\n",
    "I'm reading in a part of our old favorite - IBM data. I'll analyze only a piece of it (~ the first 1000 characters)."
   ]
  },
  {
   "cell_type": "code",
   "execution_count": 8,
   "metadata": {},
   "outputs": [
    {
     "name": "stdout",
     "output_type": "stream",
     "text": [
      "International Business Machines Corporation. (NYSE:IBM)\r\n",
      "Q3 2016 Results Earnings Conference Call\r\n",
      "October 17, 2016, 05:00 PM ET\r\n",
      "Executives\r\n",
      "Patricia Murphy - Vice President-Investor Relations\r\n",
      "Martin Schroeter - Senior Vice President and Chief Financial Officer\r\n",
      "Analysts\r\n",
      "Toni Sacconaghi - Bernstein\r\n",
      "Katy Huberty - Morgan Stanley\r\n",
      "Tien-tsin Huang - JPMorgan\r\n",
      "Steve Milunovich - UBS\r\n",
      "Lou Miscioscia - CLSA\r\n",
      "Wamsi Mohan - Bank of America Merrill Lynch\r\n",
      "David Grossman - Stifel\r\n",
      "Keith Bachman - BMO\r\n",
      "Amit Daryanani - RBC Capital Markets\r\n",
      "Operator\r\n",
      "Patricia Murphy\r\n",
      "Thank you. This is Patricia Murphy, Vice President of Investor Relations for IBM. I'm here today with Martin Schroeter, IBM's Senior Vice President and Chief Financial Officer. I'd like to welcome you to our third quarter earnings presentation.\r\n",
      "The prepared remarks will be available within a couple of hours and a replay of the webcast will be posted by this time tomorrow.\r\n",
      "I'll remind you that certain comments made in this presen\n"
     ]
    }
   ],
   "source": [
    "from urllib import request\n",
    "url = \"https://raw.githubusercontent.com/sudhir-voleti/sample-data-sets/master/International%20Business%20Machines%20(IBM)%20Q3%202016%20Results%20-%20Earnings%20Call%20Transcript.txt\"\n",
    "response = request.urlopen(url)\n",
    "ibm = response.read().decode('utf8')\n",
    "\n",
    "ibm_blob = TextBlob(ibm[:1000])\n",
    "print(ibm_blob)"
   ]
  },
  {
   "cell_type": "code",
   "execution_count": 9,
   "metadata": {},
   "outputs": [
    {
     "name": "stdout",
     "output_type": "stream",
     "text": [
      "अंतर्राष्ट्रीय व्यापार मशीनें निगम। (NYSE: आईबीएम)\r\n",
      "Q3 2016 परिणाम आय सम्मेलन सम्मेलन\r\n",
      "17 अक्टूबर 2016, 05:00 बजे ईटी\r\n",
      "कार्यकारी अधिकारियों\r\n",
      "पेट्रीसिया मर्फी - उपाध्यक्ष-निवेशक संबंध\r\n",
      "मार्टिन श्रोएटर - वरिष्ठ उपाध्यक्ष और मुख्य वित्तीय अधिकारी\r\n",
      "विश्लेषकों\r\n",
      "टोनी सेकोनाघी - बर्नस्टीन\r\n",
      "कैटी ह्यूबर्टी - मॉर्गन स्टेनली\r\n",
      "टीएन-टीएस हुआंग - जेपी मॉर्गन\r\n",
      "स्टीव मिलुनोविच - यूबीएस\r\n",
      "लू मिसिसोशिया - सीएलएसए\r\n",
      "वामसी मोहन - बैंक ऑफ अमेरिका मेरिल लिंच\r\n",
      "डेविड ग्रॉसमैन - स्टिफ़ेल\r\n",
      "कीथ बच्चन - बीएमओ\r\n",
      "अमित दरयानी - आरबीसी कैपिटल मार्केट्स\r\n",
      "ऑपरेटर\r\n",
      "पेट्रीसिया मर्फी\r\n",
      "धन्यवाद। यह पेट्रीसिया मर्फी, आईबीएम के लिए निवेशक संबंधों के उपाध्यक्ष हैं। मैं आज मार्टिन Schroeter, IBM के वरिष्ठ उपाध्यक्ष और मुख्य वित्तीय अधिकारी के साथ हूँ। मैं हमारी तीसरी तिमाही की आय प्रस्तुति में आपका स्वागत करना चाहता हूं।\r\n",
      "तैयार टिप्पणी कुछ घंटों के भीतर उपलब्ध होगी और कल तक वेबकास्ट का एक रिप्ले पोस्ट किया जाएगा।\r\n",
      "मैं आपको याद दिलाता हूँ कि इस पूर्व निर्धारित टिप्पणी\n",
      "\n",
      "\n",
      "0.09\n"
     ]
    }
   ],
   "source": [
    "t0 = time.time()\n",
    "ibm_hindi = ibm_blob.translate(to=\"hi\")\n",
    "t1 = time.time()\n",
    "time_taken = t1 - t0\n",
    "\n",
    "print(ibm_hindi)\n",
    "print(\"\\n\")\n",
    "print(round(time_taken, 2))"
   ]
  },
  {
   "cell_type": "markdown",
   "metadata": {},
   "source": [
    "Well, what do you think?\n",
    "\n",
    "I'll signoff this markdown here.\n",
    "\n",
    "Sudhir Voleti"
   ]
  }
 ],
 "metadata": {
  "kernelspec": {
   "display_name": "Python 3",
   "language": "python",
   "name": "python3"
  },
  "language_info": {
   "codemirror_mode": {
    "name": "ipython",
    "version": 3
   },
   "file_extension": ".py",
   "mimetype": "text/x-python",
   "name": "python",
   "nbconvert_exporter": "python",
   "pygments_lexer": "ipython3",
   "version": "3.6.8"
  }
 },
 "nbformat": 4,
 "nbformat_minor": 2
}

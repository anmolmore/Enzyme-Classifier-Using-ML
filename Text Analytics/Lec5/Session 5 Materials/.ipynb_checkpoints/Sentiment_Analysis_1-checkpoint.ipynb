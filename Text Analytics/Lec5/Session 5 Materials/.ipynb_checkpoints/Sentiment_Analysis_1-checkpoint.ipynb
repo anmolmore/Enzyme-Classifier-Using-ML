{
 "cells": [
  {
   "cell_type": "code",
   "execution_count": 1,
   "metadata": {},
   "outputs": [],
   "source": [
    "# coding: utf-8\n",
    "\n",
    "# In[ ]:\n",
    "\n",
    "\n",
    "\n",
    "\n",
    "\n",
    "# In[ ]:\n",
    "\n",
    "\n",
    "import pandas as pd\n",
    "from vaderSentiment.vaderSentiment import SentimentIntensityAnalyzer\n",
    "analyser = SentimentIntensityAnalyzer()"
   ]
  },
  {
   "cell_type": "code",
   "execution_count": 2,
   "metadata": {},
   "outputs": [],
   "source": [
    "scores =[]\n",
    "sentences = [\"A really bad, horrible book.\",\"A good, awesome, wonderful, cool book !!!  :)\"]\n",
    "\n",
    "for sentence in sentences:\n",
    "    score = analyser.polarity_scores(sentence)\n",
    "    scores.append(score)"
   ]
  },
  {
   "cell_type": "code",
   "execution_count": 3,
   "metadata": {},
   "outputs": [
    {
     "name": "stdout",
     "output_type": "stream",
     "text": [
      "   compound    neg    neu    pos\n",
      "0   -0.8211  0.791  0.209  0.000\n",
      "1    0.9507  0.000  0.106  0.894\n"
     ]
    }
   ],
   "source": [
    "dataFrame= pd.DataFrame(scores)\n",
    "\n",
    "print(dataFrame)"
   ]
  },
  {
   "cell_type": "code",
   "execution_count": 4,
   "metadata": {},
   "outputs": [
    {
     "data": {
      "text/plain": [
       "compound    0.0648\n",
       "neg         0.3955\n",
       "neu         0.1575\n",
       "pos         0.4470\n",
       "dtype: float64"
      ]
     },
     "execution_count": 4,
     "metadata": {},
     "output_type": "execute_result"
    }
   ],
   "source": [
    "dataFrame.mean()\n",
    "\n",
    "\n",
    "# # PUNCTUATIONS\n",
    "# \n",
    "# \n",
    "# We can see that '!' is put immidiately after the word, ideally there should not be any space between the word end and puncuation, also says Grammarly.\n"
   ]
  },
  {
   "cell_type": "code",
   "execution_count": 5,
   "metadata": {},
   "outputs": [
    {
     "name": "stdout",
     "output_type": "stream",
     "text": [
      "{'neg': 0.0, 'neu': 0.326, 'pos': 0.674, 'compound': 0.7351}\n"
     ]
    }
   ],
   "source": [
    "print(analyser.polarity_scores(\"The phone is super cool.\"))"
   ]
  },
  {
   "cell_type": "code",
   "execution_count": 6,
   "metadata": {},
   "outputs": [
    {
     "name": "stdout",
     "output_type": "stream",
     "text": [
      "{'neg': 0.0, 'neu': 0.316, 'pos': 0.684, 'compound': 0.7574}\n"
     ]
    }
   ],
   "source": [
    "print(analyser.polarity_scores(\"The phone is super cool!\"))"
   ]
  },
  {
   "cell_type": "code",
   "execution_count": 7,
   "metadata": {},
   "outputs": [
    {
     "name": "stdout",
     "output_type": "stream",
     "text": [
      "{'neg': 0.0, 'neu': 0.307, 'pos': 0.693, 'compound': 0.7772}\n"
     ]
    }
   ],
   "source": [
    "print(analyser.polarity_scores(\"The phone is super cool!!\"))"
   ]
  },
  {
   "cell_type": "code",
   "execution_count": 8,
   "metadata": {},
   "outputs": [
    {
     "name": "stdout",
     "output_type": "stream",
     "text": [
      "{'neg': 0.0, 'neu': 0.298, 'pos': 0.702, 'compound': 0.795}\n"
     ]
    }
   ],
   "source": [
    "print(analyser.polarity_scores(\"The phone is super cool!!!\"))"
   ]
  },
  {
   "cell_type": "code",
   "execution_count": 9,
   "metadata": {},
   "outputs": [
    {
     "name": "stdout",
     "output_type": "stream",
     "text": [
      "{'neg': 0.0, 'neu': 0.316, 'pos': 0.684, 'compound': 0.7574}\n"
     ]
    }
   ],
   "source": [
    "print(analyser.polarity_scores(\"The phone is super cool !\"))"
   ]
  },
  {
   "cell_type": "code",
   "execution_count": 10,
   "metadata": {},
   "outputs": [
    {
     "name": "stdout",
     "output_type": "stream",
     "text": [
      "{'neg': 0.0, 'neu': 0.371, 'pos': 0.629, 'compound': 0.7772}\n"
     ]
    }
   ],
   "source": [
    "print(analyser.polarity_scores(\"The phone is super cool !!\"))"
   ]
  },
  {
   "cell_type": "code",
   "execution_count": 11,
   "metadata": {},
   "outputs": [
    {
     "name": "stdout",
     "output_type": "stream",
     "text": [
      "{'neg': 0.0, 'neu': 0.361, 'pos': 0.639, 'compound': 0.795}\n"
     ]
    }
   ],
   "source": [
    "print(analyser.polarity_scores(\"The phone is super cool !!!\"))"
   ]
  },
  {
   "cell_type": "code",
   "execution_count": 12,
   "metadata": {},
   "outputs": [
    {
     "name": "stdout",
     "output_type": "stream",
     "text": [
      "{'neg': 0.0, 'neu': 0.423, 'pos': 0.577, 'compound': 0.6249}\n"
     ]
    }
   ],
   "source": [
    "print(analyser.polarity_scores(\"The phone is great\"))"
   ]
  },
  {
   "cell_type": "code",
   "execution_count": 13,
   "metadata": {},
   "outputs": [
    {
     "name": "stdout",
     "output_type": "stream",
     "text": [
      "{'neg': 0.0, 'neu': 0.383, 'pos': 0.617, 'compound': 0.7034}\n"
     ]
    }
   ],
   "source": [
    "print(analyser.polarity_scores(\"The phone is GREAT\"))"
   ]
  },
  {
   "cell_type": "code",
   "execution_count": 14,
   "metadata": {},
   "outputs": [
    {
     "name": "stdout",
     "output_type": "stream",
     "text": [
      "{'neg': 0.0, 'neu': 0.406, 'pos': 0.594, 'compound': 0.6588}\n"
     ]
    }
   ],
   "source": [
    "print(analyser.polarity_scores(\"The phone is great!\"))"
   ]
  },
  {
   "cell_type": "code",
   "execution_count": 15,
   "metadata": {},
   "outputs": [
    {
     "name": "stdout",
     "output_type": "stream",
     "text": [
      "{'neg': 0.0, 'neu': 0.356, 'pos': 0.644, 'compound': 0.7519}\n"
     ]
    }
   ],
   "source": [
    "print(analyser.polarity_scores(\"The phone is GREAT!!\"))"
   ]
  },
  {
   "cell_type": "code",
   "execution_count": 16,
   "metadata": {},
   "outputs": [
    {
     "name": "stdout",
     "output_type": "stream",
     "text": [
      "{'neg': 0.0, 'neu': 0.508, 'pos': 0.492, 'compound': 0.4404}\n"
     ]
    }
   ],
   "source": [
    "print(analyser.polarity_scores(\"The phone is good\"))"
   ]
  },
  {
   "cell_type": "code",
   "execution_count": 17,
   "metadata": {},
   "outputs": [
    {
     "name": "stdout",
     "output_type": "stream",
     "text": [
      "{'neg': 0.0, 'neu': 0.58, 'pos': 0.42, 'compound': 0.4404}\n"
     ]
    }
   ],
   "source": [
    "print(analyser.polarity_scores(\"The phone is fairly good\"))"
   ]
  },
  {
   "cell_type": "code",
   "execution_count": 18,
   "metadata": {},
   "outputs": [
    {
     "name": "stdout",
     "output_type": "stream",
     "text": [
      "{'neg': 0.0, 'neu': 0.556, 'pos': 0.444, 'compound': 0.4927}\n"
     ]
    }
   ],
   "source": [
    "print(analyser.polarity_scores(\"The phone is very good\")) \n",
    "#The Positive score should have rised here :O\n"
   ]
  },
  {
   "cell_type": "code",
   "execution_count": 19,
   "metadata": {},
   "outputs": [
    {
     "name": "stdout",
     "output_type": "stream",
     "text": [
      "{'neg': 0.0, 'neu': 0.423, 'pos': 0.577, 'compound': 0.6249}\n"
     ]
    }
   ],
   "source": [
    "print(analyser.polarity_scores(\"The phone is awesome\"))"
   ]
  },
  {
   "cell_type": "code",
   "execution_count": 20,
   "metadata": {},
   "outputs": [
    {
     "name": "stdout",
     "output_type": "stream",
     "text": [
      "{'neg': 0.0, 'neu': 0.779, 'pos': 0.221, 'compound': 0.3716}\n"
     ]
    }
   ],
   "source": [
    "print(analyser.polarity_scores(\"The phone is awesome, but the price is too much\"))\n",
    "#The Negative score should have rised here :O"
   ]
  },
  {
   "cell_type": "code",
   "execution_count": 21,
   "metadata": {},
   "outputs": [
    {
     "name": "stdout",
     "output_type": "stream",
     "text": [
      "{'neg': 0.294, 'neu': 0.567, 'pos': 0.138, 'compound': -0.4939}\n"
     ]
    }
   ],
   "source": [
    "print(analyser.polarity_scores(\"The phone is good but the screen display is poor\"))\n",
    "#The Negative score should have rised here :O"
   ]
  },
  {
   "cell_type": "code",
   "execution_count": 22,
   "metadata": {},
   "outputs": [
    {
     "name": "stdout",
     "output_type": "stream",
     "text": [
      "{'neg': 0.0, 'neu': 0.476, 'pos': 0.524, 'compound': 0.6705}\n"
     ]
    }
   ],
   "source": [
    "#EMOJI\n",
    "print(analyser.polarity_scores(\"I am 😄 today\"))"
   ]
  },
  {
   "cell_type": "code",
   "execution_count": 23,
   "metadata": {},
   "outputs": [
    {
     "name": "stdout",
     "output_type": "stream",
     "text": [
      "{'neg': 0.0, 'neu': 0.332, 'pos': 0.668, 'compound': 0.6166}\n"
     ]
    }
   ],
   "source": [
    "#EMOTICON\n",
    "print(analyser.polarity_scores(\"I am :-D today\"))"
   ]
  },
  {
   "cell_type": "code",
   "execution_count": 24,
   "metadata": {},
   "outputs": [
    {
     "name": "stdout",
     "output_type": "stream",
     "text": [
      "{'neg': 0.0, 'neu': 0.332, 'pos': 0.668, 'compound': 0.6166}\n"
     ]
    }
   ],
   "source": [
    "#EMOTICON\n",
    "print(analyser.polarity_scores(\"I am :D today\"))"
   ]
  },
  {
   "cell_type": "code",
   "execution_count": 25,
   "metadata": {},
   "outputs": [
    {
     "name": "stdout",
     "output_type": "stream",
     "text": [
      "{'neg': 0.0, 'neu': 0.797, 'pos': 0.203, 'compound': 0.4215}\n"
     ]
    }
   ],
   "source": [
    "print(analyser.polarity_scores(\"The phone is so expensive that one can buy a pre-owned car, lol\"))"
   ]
  },
  {
   "cell_type": "code",
   "execution_count": null,
   "metadata": {},
   "outputs": [],
   "source": []
  }
 ],
 "metadata": {
  "kernelspec": {
   "display_name": "Python 3",
   "language": "python",
   "name": "python3"
  },
  "language_info": {
   "codemirror_mode": {
    "name": "ipython",
    "version": 3
   },
   "file_extension": ".py",
   "mimetype": "text/x-python",
   "name": "python",
   "nbconvert_exporter": "python",
   "pygments_lexer": "ipython3",
   "version": "3.6.8"
  }
 },
 "nbformat": 4,
 "nbformat_minor": 2
}

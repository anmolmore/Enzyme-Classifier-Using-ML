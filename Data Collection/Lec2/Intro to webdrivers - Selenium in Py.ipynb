{
 "cells": [
  {
   "cell_type": "markdown",
   "metadata": {},
   "source": [
    "Sudhir Voleti. ISB. Apr 2019.\n",
    "\n",
    "Hi all,\n",
    "\n",
    "Welcome back. Often during data collection, scraping static webpages using tools like R's rvest or py's beautiful_soup may simply not be enough for a number of reasons:\n",
    "* Because the target webpage is dynamic, \n",
    "* has hidden and changing content, \n",
    "* has [AJAX (Asynchronous Javascript And XML)](https://en.wikipedia.org/wiki/Ajax%28programming%29) scripts running (which allows web pages to dynamically change content without needing to reload the entire page), \n",
    "* etc.\n",
    "<br>\n",
    "<br>\n",
    "When we navigate such a page, the page (and by extension the web application behind it) would require us to take a number of actions. Think of:\n",
    "\n",
    "1. Clicking a button to load more content\n",
    "2. Refreshing old content\n",
    "3. Clearing search boxes prior to search\n",
    "4. Typing in search queries\n",
    "5. Choosing options from pulldown menus\n",
    "6. Scrolling \n",
    "7. Etc.\n",
    "\n",
    "<br>\n",
    "<br>\n",
    "As people, we can do this easily. But imagine needing to collect data from 100s of such pages or page-instances?\n",
    "<br>\n",
    "<br>\n",
    "In such a scenario, would it not be great if we could launch a browser remotely and control actions to be taken to display the data we need, and then thereafter scrape the data? This is where webdrivers enter the picture. One of the best known is Selenium, which has interfaces both with R and py. Py is more stable with Selenium, so here we are.\n",
    "<br>\n",
    "<br>\n",
    "To recap: Aim of this doc is to demo webdriver functionality using a few elementary exercises.\n",
    "<br>\n",
    "<br>\n"
   ]
  },
  {
   "cell_type": "markdown",
   "metadata": {},
   "source": [
    "### Installation"
   ]
  },
  {
   "cell_type": "markdown",
   "metadata": {},
   "source": [
    "Skip in case you have already installed"
   ]
  },
  {
   "cell_type": "code",
   "execution_count": 1,
   "metadata": {},
   "outputs": [],
   "source": [
    "import sys"
   ]
  },
  {
   "cell_type": "markdown",
   "metadata": {},
   "source": [
    "### Import the required libraries"
   ]
  },
  {
   "cell_type": "code",
   "execution_count": 2,
   "metadata": {},
   "outputs": [],
   "source": [
    "from selenium import webdriver\n",
    "from selenium.webdriver.common.keys import Keys "
   ]
  },
  {
   "cell_type": "markdown",
   "metadata": {},
   "source": [
    "Ok. What follows applies if you're a novice (somewhat like me).\n",
    "<br>\n",
    "<br>\n",
    "So if the above code block ran on, say, spyder's IPython console, you've installed the webdriver correctly.\n",
    "<br>\n",
    "<br>\n",
    "I specifically unzipped the binary and installed it at a local machine location ('F:/R miscell/chromedriver.exe') where I can call it at will without the hassle of relative URLs etc. You may choose to do the same.\n",
    "<br>\n",
    "<br>\n",
    "Now, in the code below, we invoke the webdriver to go play around a tad with the www.python.org webpage as our target webpage, do some basic searches there etc.\n",
    "<br>\n",
    "<br>\n",
    "Be aware we can use CSS selectors from selector gadget like previously, or other options to get toparticular tags and HTML elements on the target page.\n",
    "<br>\n",
    "<br>\n",
    "Specifically, keep a lookout for the following selenium py funcs:\n",
    "1. .get() to find the target webpage and open it in a new chrome instance.\n",
    "2. .find_element_by_*() to find particular fields, boxes, buttons etc on the target webpage.\n",
    "<br>\n",
    "\n",
    "Behold."
   ]
  },
  {
   "cell_type": "code",
   "execution_count": 3,
   "metadata": {},
   "outputs": [],
   "source": [
    "#https://selenium-python.readthedocs.io/getting-started.html\n",
    "driver = webdriver.Chrome('data/chromedriver') \n",
    "driver.get(\"http://www.python.org\")    #get URL's page source\n",
    "assert \"Python\" in driver.title   # confirm with assert() if 'python' is in page title"
   ]
  },
  {
   "cell_type": "markdown",
   "metadata": {},
   "source": [
    "The moment the above runs, .get(target webpage) opens a new chrome webpage instance, being remote-driven by the web-driver.\n",
    "<br>\n",
    "<br>\n",
    "Plan now is to search in the searchbox on the target webpage for a search-term, say, \"pycon\" (for 'python conferences'). This implies we first need to ID the search field with .find_element_by_*(search-field-ID) and tell the webdriver to populate it.\n",
    "<br>\n",
    "<br>\n",
    "We can find element by name or by CSS selector (among other options like Xpath). I'll just use the CSS selector.\n",
    "<br>\n",
    "<br>\n",
    "Let me drag-and-drop a screenshot of what the CSS selector for the search box field should be like."
   ]
  },
  {
   "cell_type": "markdown",
   "metadata": {},
   "source": [
    "![](data/img1.png)"
   ]
  },
  {
   "cell_type": "code",
   "execution_count": 4,
   "metadata": {},
   "outputs": [],
   "source": [
    "# elem = driver.find_element_by_name(\"q\")   # http://selenium-python.readthedocs.io/locating-elements.html#locating-elements\n",
    "elem = driver.find_element_by_css_selector(\"#id-search-field\")     # alternately, to above line, using find_element_by_* "
   ]
  },
  {
   "cell_type": "markdown",
   "metadata": {},
   "source": [
    "So we've IDed the webpage element we want to act on using its CSS tag. We've named the element elem so we can repeatedly call it and manipulate it.\n",
    "<br>\n",
    "<br>\n",
    "Next, I'll double-check and clear the search box in case it has any previous entries in it using .clear(); then populate the search box with our search term using .send_keys(\"search term\"); hit return and check if any result was returned or not.\n",
    "<br>\n",
    "<br>\n",
    "See below."
   ]
  },
  {
   "cell_type": "code",
   "execution_count": 5,
   "metadata": {},
   "outputs": [],
   "source": [
    "# sending keys below is like entering keys via keyboard\n",
    "elem.clear()    # first clear any pre-populated text in the input field\n",
    "elem.send_keys(\"pycon\")     # type \"pycon\" for py conf into search-text field \n",
    "elem.send_keys(Keys.RETURN)     # hit ENTER after typing in search-query for pycon. neat.\n",
    "assert \"No results found.\" not in driver.page_source     # To ensure that some results are found, make an assertion"
   ]
  },
  {
   "cell_type": "markdown",
   "metadata": {},
   "source": [
    "It makes sense to use assert just to be sure. Here's a screenshot of the results, for the record."
   ]
  },
  {
   "cell_type": "markdown",
   "metadata": {},
   "source": [
    "![](data/img2.png)"
   ]
  },
  {
   "cell_type": "markdown",
   "metadata": {},
   "source": [
    "Now that the results are displayed, we can use beautiful soup to scrape the results as required. Cool, eh?\n",
    "<br>\n",
    "<br>\n",
    "Alright. How about we search for something else now. Say, 'beautiful soup' itself. See below."
   ]
  },
  {
   "cell_type": "code",
   "execution_count": 6,
   "metadata": {},
   "outputs": [],
   "source": [
    "# trying new search term for say 'beautiful soup'\n",
    "elem = driver.find_element_by_css_selector(\"#id-search-field\")     # alternately, to above line, using find_element_by_* \n",
    "elem.clear()    # first clear any pre-populated text in the input field\n",
    "elem.send_keys(\"beautiful soup\")     # type \"pycon\" for py conf into search-text field \n",
    "elem.send_keys(Keys.RETURN)     # hit ENTER after typing in search-query for pycon. neat."
   ]
  },
  {
   "cell_type": "markdown",
   "metadata": {},
   "source": [
    "And so on.\n",
    "<br>\n",
    "Last but not least, it is important to close the page you opened, using the driver.close() command as below."
   ]
  },
  {
   "cell_type": "code",
   "execution_count": 7,
   "metadata": {},
   "outputs": [],
   "source": [
    "driver.close()     # quit will exit entire browser whereas close` will close one tab"
   ]
  },
  {
   "cell_type": "markdown",
   "metadata": {},
   "source": [
    "Well, any simple examples we can try now? How about automating your FB login with chrome driver?\n",
    "<br>\n",
    "<br>\n",
    "That's for homework, maybe.\n",
    "<br>\n",
    "<br>\n",
    "Shall end this markdown here.\n",
    "<br>\n",
    "<br>\n",
    "Sudhir ISB, Apr 2019."
   ]
  }
 ],
 "metadata": {
  "kernelspec": {
   "display_name": "Python 3",
   "language": "python",
   "name": "python3"
  },
  "language_info": {
   "codemirror_mode": {
    "name": "ipython",
    "version": 3
   },
   "file_extension": ".py",
   "mimetype": "text/x-python",
   "name": "python",
   "nbconvert_exporter": "python",
   "pygments_lexer": "ipython3",
   "version": "3.6.8"
  }
 },
 "nbformat": 4,
 "nbformat_minor": 2
}
